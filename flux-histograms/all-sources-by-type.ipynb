{
 "cells": [
  {
   "cell_type": "code",
   "execution_count": 1,
   "id": "14271aa0",
   "metadata": {},
   "outputs": [],
   "source": [
    "import matplotlib.pyplot as plt\n",
    "import numpy as np\n",
    "import pandas as pd\n",
    "from astropy.io import fits\n",
    "import numpy as np\n",
    "from matplotlib import pyplot as plt\n",
    "from scipy import stats\n",
    "from scipy.special import gammainc, gamma\n",
    "\n",
    "plt.style.use('jcap')\n",
    "\n",
    "DISTANCE_CUT = 2\n",
    "F_GCE = 1.794113925439598e-09\n",
    "\n",
    "\n",
    "# Catalog documented here:\n",
    "# https://fermi.gsfc.nasa.gov/ssc/data/access/lat/8yr_catalog/4FGL_Catalog_submit.pdf"
   ]
  },
  {
   "cell_type": "code",
   "execution_count": 2,
   "id": "895a5836",
   "metadata": {},
   "outputs": [
    {
     "name": "stdout",
     "output_type": "stream",
     "text": [
      "103 were in Fermilab's list\n",
      "7 were added under extension.\n"
     ]
    }
   ],
   "source": [
    "plt.style.use('jcap')\n",
    "\n",
    "def load_file(fname, table=None):\n",
    "    names = []\n",
    "    f = open(fname, 'r')\n",
    "    for l in f.readlines():\n",
    "        if l == '':\n",
    "            return\n",
    "        if l[0] == '#':\n",
    "            continue\n",
    "        assert(l[0] == '[')\n",
    "        peak_l, peak_b, source_l, source_b, name = l[1:-2].split(', ')\n",
    "        name = name[2:-1]\n",
    "        while name[-1] == \" \":\n",
    "            name = name[:-1]\n",
    "        \n",
    "        already_included = name in names\n",
    "        if table is not None:\n",
    "            for name2 in table[\"Source_Name\"]:\n",
    "                if name2 == name:\n",
    "                    already_included = True\n",
    "                    break\n",
    "        if not already_included:\n",
    "            names.append(name)\n",
    "        \n",
    "    return pd.DataFrame(data=np.asarray([names]).transpose(),\n",
    "                        columns=('Source_Name',))\n",
    "        \n",
    "fermi_data = load_file(\"data/Fermi_front_only_4FGL_peak_identification_within_20_deg_search_.3_deg.txt\");\n",
    "fermi_data_extra = load_file(\"data/Fermi_front_only_4FGL_peak_identification_within_20_deg_search_.55_deg.txt\", fermi_data);\n",
    "\n",
    "print(len(fermi_data), \"were in Fermilab's list\")\n",
    "print(len(fermi_data_extra), \"were added under extension.\")"
   ]
  },
  {
   "cell_type": "code",
   "execution_count": 3,
   "id": "525d5081",
   "metadata": {},
   "outputs": [
    {
     "name": "stdout",
     "output_type": "stream",
     "text": [
      "77 were at (0, 0. 8.5)\n"
     ]
    }
   ],
   "source": [
    "def load_dist_file(filename):\n",
    "    names = []\n",
    "    glons = []\n",
    "    glats = []\n",
    "    galact_cent_dists = []\n",
    "    sun_count = 0\n",
    "    \n",
    "    f = open(filename)\n",
    "    for line in f.readlines():\n",
    "        if line == '\\n' or line == '':\n",
    "            continue\n",
    "        entries = line.split(' ')\n",
    "        while '' in entries: entries.remove('')\n",
    "        number, _, name, _, glon, glat, z, x, y = entries\n",
    "        if float(z) == 0.0 and float(x) == 0.0 and float(y) == 8.5:\n",
    "            sun_count += 1\n",
    "            \n",
    "        galact_cent_dist = np.sqrt(float(z)**2 + float(y)**2 + float(x)**2)\n",
    "\n",
    "        names.append(name)\n",
    "        glons.append(float(glon))\n",
    "        glats.append(float(glat))\n",
    "        galact_cent_dists.append(galact_cent_dist)\n",
    "    f.close()\n",
    "    \n",
    "    print(sun_count, \"were at (0, 0. 8.5)\")\n",
    "    \n",
    "    names = np.asarray(names)\n",
    "    galact_cent_dists = np.asarray(galact_cent_dists)\n",
    "    return pd.DataFrame(data={\"Source_Name\": names, \"GLON\":glons, \"GLAT\":glats, \"Dist\": galact_cent_dists})\n",
    "\n",
    "all_distances = load_dist_file(\"data/known-pulsars.txt\")"
   ]
  },
  {
   "cell_type": "code",
   "execution_count": 4,
   "id": "2155ed58",
   "metadata": {},
   "outputs": [],
   "source": [
    "hdul = fits.open('data/gll_psc_v22.fit')\n",
    "fgl_8_year = hdul[1].data\n",
    "hdul.close()\n",
    "\n",
    "hdul = fits.open('data/gll_psc_v27.fit')\n",
    "fgl_10_year = hdul[1].data\n",
    "hdul.close()\n",
    "\n",
    "hdul = fits.open('data/gll_psc_v16.fit')# 3FGL\n",
    "fgl_3 = hdul[1].data\n",
    "hdul.close()\n",
    "\n",
    "CUT_EXTRA_GALACTIC = True\n",
    "\n",
    "def cut(row, cut_flags):\n",
    "    #ROI cut\n",
    "    if 20 < row[\"GLON\"] < 340:\n",
    "        return True\n",
    "    if row[\"GLAT\"] > 20 or row[\"GLAT\"] < -20:\n",
    "        return True\n",
    "    if -2 < row[\"GLAT\"] < 2:\n",
    "        return True\n",
    "\n",
    "    if CUT_EXTRA_GALACTIC:\n",
    "        # Source type cut\n",
    "        if not row[\"CLASS1\"] in ['', 'psr', 'PSR', 'unk']:\n",
    "            return True\n",
    "        try:\n",
    "            if not row[\"CLASS2\"] in ['', 'psr', 'PSR', 'unk']:\n",
    "                return True\n",
    "        except:\n",
    "            pass\n",
    "\n",
    "        # Distance cut\n",
    "        dist = get_distance(row[\"ASSOC1\"])\n",
    "        if dist is None:\n",
    "            dist = get_distance(row[\"ASSOC2\"])\n",
    "        if dist is not None:\n",
    "            if  dist > DISTANCE_CUT:\n",
    "                return True\n",
    "\n",
    "    if cut_flags:\n",
    "        if row[\"Flags\"] != 0:\n",
    "            return True\n",
    "    return False"
   ]
  },
  {
   "cell_type": "code",
   "execution_count": 5,
   "id": "b20e15f7",
   "metadata": {},
   "outputs": [
    {
     "name": "stdout",
     "output_type": "stream",
     "text": [
      "\n",
      "\n",
      "4FGL 8-year has 22 pulsars:\n"
     ]
    }
   ],
   "source": [
    "pulsar_count = 0\n",
    "for row in fgl_8_year:\n",
    "    #ROI cut\n",
    "    if 20 < row[\"GLON\"] < 340:\n",
    "        continue\n",
    "    if row[\"GLAT\"] > 20 or row[\"GLAT\"] < -20:\n",
    "        continue\n",
    "    if -2 < row[\"GLAT\"] < 2:\n",
    "        continue\n",
    "\n",
    "    if row[\"CLASS1\"] in ['psr', 'PSR']:\n",
    "        pulsar_count += 1\n",
    "        #print(row[\"CLASS2\"])\n",
    "    elif row[\"CLASS2\"] in ['psr', 'PSR']:\n",
    "        pulsar_count += 1\n",
    "        print(row[\"CLASS1\"])\n",
    "print(f\"4FGL 8-year has {pulsar_count} pulsars:\")"
   ]
  },
  {
   "cell_type": "code",
   "execution_count": 23,
   "id": "a663c5cd",
   "metadata": {},
   "outputs": [],
   "source": [
    "def cut_fluxes(fgl_data, flags, fermilab=False):\n",
    "    global fermilab_pulsar_count\n",
    "    fermilab_pulsar_count = 0\n",
    "    allowed_fluxes = []\n",
    "    for row in fgl_data:\n",
    "        if cut(row, flags):\n",
    "            continue\n",
    "            \n",
    "        if row[\"Source_Name\"] == '4FGL J1823.5-3020':\n",
    "            print(row[\"CLASS1\"])\n",
    "            continue\n",
    "            \n",
    "        '''if row[\"CLASS1\"] in [\"psr\", \"PSR\"] or row[\"CLASS2\"] in [\"psr\", \"PSR\"]:\n",
    "            dist = get_distance(row[\"ASSOC1\"])\n",
    "            if dist is None:\n",
    "                dist = get_distance(row[\"ASSOC2\"])\n",
    "            print(\"Pulsar encountered, dist\", dist)'''\n",
    "            \n",
    "        if fermilab:\n",
    "            if row[\"Source_Name\"] not in list(fermi_data[\"Source_Name\"]) \\\n",
    "            and row[\"Source_Name\"] not in list(fermi_data_extra[\"Source_Name\"]):\n",
    "                if row[\"CLASS1\"] in [\"psr\", \"PSR\"]:\n",
    "                    print(\"Wavelet analysis cut a pulsar, flux:\", row[\"Energy_Flux100\"])\n",
    "                try:\n",
    "                    if row[\"CLASS2\"] in ['psr', 'PSR']:\n",
    "                        print(\"Wavelet analysis cut a pulsar, flux:\", row[\"Energy_Flux100\"])\n",
    "                except:\n",
    "                    pass\n",
    "                continue\n",
    "            else:\n",
    "                if row[\"CLASS1\"] in [\"psr\", \"PSR\"]:\n",
    "                    fermilab_pulsar_count += 1\n",
    "                try:\n",
    "                    if row[\"CLASS2\"] in ['psr', 'PSR']:\n",
    "                        fermilab_pulsar_count += 1\n",
    "                except:\n",
    "                    pass\n",
    "                \n",
    "        allowed_fluxes.append(row[\"Energy_Flux100\"])\n",
    "    return allowed_fluxes\n",
    "\n",
    "def get_distance(assocName):\n",
    "    dists = all_distances[\"Dist\"][all_distances[\"Source_Name\"] == assocName[4:]]\n",
    "    if len(dists) == 1:\n",
    "        return float(dists)\n",
    "    return None"
   ]
  },
  {
   "cell_type": "code",
   "execution_count": 47,
   "id": "78e0ec64",
   "metadata": {},
   "outputs": [
    {
     "name": "stdout",
     "output_type": "stream",
     "text": [
      "PSR\n",
      "PSR\n",
      "PSR\n",
      "PSR\n",
      "Wavelet analysis cut a pulsar, flux: 5.06288e-12\n",
      "PSR\n",
      "Wavelet analysis cut a pulsar, flux: 4.487598e-12\n",
      "Wavelet analysis cut a pulsar, flux: 2.7991745e-12\n",
      "PSR\n",
      "Wavelet analysis cut a pulsar, flux: 2.5999758e-12\n",
      "8 year total vs. fermi 211 47 0.16899196849191833\n",
      "10 year total vs. fermi 264 48 0.16678619221649327\n"
     ]
    }
   ],
   "source": [
    "fermilab_pulsar_count = 0\n",
    "passed_fluxes_8_year = cut_fluxes(fgl_8_year, False)\n",
    "passed_fluxes_8_year_cut = cut_fluxes(fgl_8_year, True)\n",
    "passed_fluxes_10_year = cut_fluxes(fgl_10_year, False)\n",
    "passed_fluxes_10_year_cut = cut_fluxes(fgl_10_year, True)\n",
    "passed_fluxes_3 = cut_fluxes(fgl_3, False)\n",
    "passed_fluxes_fermi_8_year = cut_fluxes(fgl_8_year, False, fermilab=True)\n",
    "passed_fluxes_fermi_10_year = cut_fluxes(fgl_10_year, False, fermilab=True)\n",
    "print(\"8 year total vs. fermi\", len(passed_fluxes_8_year), len(passed_fluxes_fermi_8_year),\n",
    "      sum(passed_fluxes_fermi_8_year) / F_GCE)\n",
    "print(\"10 year total vs. fermi\", len(passed_fluxes_10_year), len(passed_fluxes_fermi_10_year),\n",
    "      sum(passed_fluxes_fermi_10_year) / F_GCE)\n",
    "\n",
    "#print(\"Passed 10 year number: \", len(passed_fluxes_10_year))\n",
    "#print(\"Passed 10 year flux: \", sum(passed_fluxes_10_year))\n",
    "#print(\"Passed 10 year Rr: \", sum(passed_fluxes_10_year) / F_GCE)"
   ]
  },
  {
   "cell_type": "code",
   "execution_count": 99,
   "id": "20181b8c",
   "metadata": {},
   "outputs": [
    {
     "name": "stdout",
     "output_type": "stream",
     "text": [
      "[1.95904603e-12 2.65324763e-12 3.59344440e-12 4.86680645e-12\n",
      " 6.59139321e-12 8.92709929e-12 1.20904791e-11]\n"
     ]
    },
    {
     "data": {
      "image/png": "[encoded data removed]",
      "text/plain": [
       "<Figure size 468x288 with 1 Axes>"
      ]
     },
     "metadata": {
      "needs_background": "light"
     },
     "output_type": "display_data"
    }
   ],
   "source": [
    "F_MIN = np.min(passed_fluxes_fermi_8_year)\n",
    "F_MAX = np.max(passed_fluxes_fermi_8_year)\n",
    "bins = 10**np.arange(np.log10(F_MIN), np.log10(F_MAX), 0.13173314511199238)\n",
    "\n",
    "plt.axvline(label=\"10 year $F_\\\\mathrm{th}$\", x=3.81e-12, color='k', linestyle='dashed')\n",
    "dr2_num, _, _ = plt.hist(passed_fluxes_10_year, label=\"DR2\", alpha=0.5, bins=bins)\n",
    "dr1_num, _, _ = plt.hist(passed_fluxes_8_year, label=\"DR1\", alpha=0.5, bins=bins)\n",
    "\n",
    "intersection = np.minimum(dr2_num, dr1_num)\n",
    "print(bins[:-1])\n",
    "plt.bar(bins[:-1], intersection, width = [bins[i+1] - bins[i] for i in range(len(bins)-1)],\n",
    "        align='edge', color=[(1 - (1 - 143/255)/1.333, 1 - (1 - 123/255)/1.333, 1 - (1 - 97/255)/1.333)])\n",
    "\n",
    "plt.hist(passed_fluxes_10_year_cut, label=\"DR2 no flags\", bins=bins, fill=False, histtype=\"stepfilled\",\n",
    "         linewidth=2, edgecolor='C0')\n",
    "plt.hist(passed_fluxes_8_year_cut, label=\"DR1 no flags\", bins=bins, fill=False, histtype=\"stepfilled\",\n",
    "         linewidth=2, edgecolor='C1')\n",
    "#plt.hist(passed_fluxes_3, label=\"3 FGL\", alpha=0.5, bins=bins)\n",
    "plt.hist(passed_fluxes_fermi_8_year, alpha=0.3, bins=bins, color='k', histtype=\"stepfilled\",\n",
    "        linewidth=2)\n",
    "plt.hist(passed_fluxes_fermi_8_year, bins=bins, fill=False,histtype=\"stepfilled\",\n",
    "        linewidth=2, label=\"Wavelets\")\n",
    "\n",
    "plt.xscale('log')\n",
    "#plt.yscale('log')\n",
    "plt.ylabel(\"Resolved PS Count\")\n",
    "plt.xlabel(\"PS Flux (erg / cm$^2$ / s)\")\n",
    "#plt.axvline(label=\"1 photon\", x=1.91e-13, color='k', linestyle='dotted')\n",
    "plt.legend(loc='upper right')\n",
    "plt.tight_layout()\n",
    "plt.savefig(\"compare-catalogs.pdf\")"
   ]
  },
  {
   "cell_type": "code",
   "execution_count": 103,
   "id": "339e1718",
   "metadata": {},
   "outputs": [
    {
     "name": "stdout",
     "output_type": "stream",
     "text": [
      "1.0\n",
      "0.7992424242424242\n",
      "0.4090909090909091\n",
      "0.3446969696969697\n",
      "0.17803030303030304\n",
      "\n",
      "105.60000000000001\n",
      "52.800000000000004\n",
      "26.400000000000002\n",
      "13.200000000000001\n",
      "\n",
      "0.36405343573857796\n",
      "0.18202671786928898\n",
      "0.09101335893464449\n",
      "0.045506679467322245\n"
     ]
    }
   ],
   "source": [
    "print(len(passed_fluxes_10_year) / len(passed_fluxes_10_year))\n",
    "print(len(passed_fluxes_8_year) / len(passed_fluxes_10_year))\n",
    "print(len(passed_fluxes_10_year_cut) / len(passed_fluxes_10_year))\n",
    "print(len(passed_fluxes_8_year_cut) / len(passed_fluxes_10_year))\n",
    "print(len(passed_fluxes_fermi_8_year) / len(passed_fluxes_10_year))\n",
    "print()\n",
    "print(0.4 * len(passed_fluxes_10_year))\n",
    "print(0.2 * len(passed_fluxes_10_year))\n",
    "print(0.1 * len(passed_fluxes_10_year))\n",
    "print(0.05 * len(passed_fluxes_10_year))\n",
    "print()\n",
    "print(0.4 * sum(passed_fluxes_10_year) / F_GCE)\n",
    "print(0.2 * sum(passed_fluxes_10_year) / F_GCE)\n",
    "print(0.1 * sum(passed_fluxes_10_year) / F_GCE)\n",
    "print(0.05 * sum(passed_fluxes_10_year) / F_GCE)\n"
   ]
  },
  {
   "cell_type": "markdown",
   "id": "aa4f900e",
   "metadata": {},
   "source": [
    "# Recreate 3FGL mask\n",
    "\n",
    "I want to recreate Zhong et al's 3FGL mask to see how many 4FGL points it beats out."
   ]
  },
  {
   "cell_type": "code",
   "execution_count": null,
   "id": "f8bb4398",
   "metadata": {},
   "outputs": [],
   "source": [
    "fgl3_poses = []\n",
    "fgl3_mask_radius_squared = []\n",
    "for row in fgl_3:\n",
    "    if 20 < row[\"GLON\"] < 340:\n",
    "        continue\n",
    "    if row[\"GLAT\"] > 20 or row[\"GLAT\"] < -20:\n",
    "        continue\n",
    "    if -2 < row[\"GLAT\"] < 2:\n",
    "        continue\n",
    "    TS = row[\"Sqrt_TS100_300\"]**2 + row[\"Sqrt_TS300_1000\"]**2 + \\\n",
    "        row[\"Sqrt_TS1000_3000\"]**2 + row[\"Sqrt_TS3000_10000\"]**2 + row[\"Sqrt_TS10000_100000\"]**2\n",
    "    if 9 < TS < 49:\n",
    "        fgl3_mask_radius_squared.append(0.3**2)\n",
    "    elif TS >= 49:\n",
    "        fgl3_mask_radius_squared.append(1.0**2)\n",
    "    else:\n",
    "        continue\n",
    "    lon = row[\"GLON\"]\n",
    "    if lon > 180:\n",
    "        lon -= 360\n",
    "    fgl3_poses.append((lon, row[\"GLAT\"]))\n",
    "    \n",
    "def is_cut(coord):\n",
    "    for i, (lon, lat) in enumerate(fgl3_poses):\n",
    "        if (lon - coord[0])**2 + (lat - coord[1])**2 < fgl3_mask_radius_squared[i]:\n",
    "            return True\n",
    "    return False"
   ]
  },
  {
   "cell_type": "code",
   "execution_count": null,
   "id": "73cd3bc0",
   "metadata": {},
   "outputs": [],
   "source": [
    "num_wavelets_outside_mask = 0\n",
    "for row in fgl_8_year:\n",
    "    if cut(row):\n",
    "        continue\n",
    "    lon = row[\"GLON\"]\n",
    "    if lon > 180:\n",
    "        lon -= 360\n",
    "    if row[\"Source_Name\"] not in list(fermi_data[\"Source_Name\"]) \\\n",
    "    and row[\"Source_Name\"] not in list(fermi_data_extra[\"Source_Name\"]):\n",
    "        continue\n",
    "    print(row[\"ASSOC_FGL\"], lon, row[\"GLAT\"], row[\"Source_Name\"])\n",
    "    if is_cut((lon, row[\"GLAT\"])):\n",
    "        continue\n",
    "    num_wavelets_outside_mask += 1\n",
    "print(num_wavelets_outside_mask, len(passed_fluxes_fermi_8_year))"
   ]
  },
  {
   "cell_type": "code",
   "execution_count": null,
   "id": "becc88aa",
   "metadata": {},
   "outputs": [],
   "source": [
    "plt.figure(figsize=(6,6))\n",
    "MAP_SIZE = 200\n",
    "mask_map = np.zeros((MAP_SIZE, MAP_SIZE))\n",
    "degrees = np.linspace(-20, 20, MAP_SIZE)\n",
    "for x in range(MAP_SIZE):\n",
    "    #if x % 10 == 0:\n",
    "    #    print(x)\n",
    "    for y in range(MAP_SIZE):\n",
    "        lonlat = degrees[x], degrees[y]\n",
    "        if abs(lonlat[1]) < 2:\n",
    "            mask_map[y, x] = np.nan           \n",
    "        elif is_cut(lonlat):\n",
    "            mask_map[y, x] = 1\n",
    "        else:\n",
    "            mask_map[y, x] = 0\n",
    "plt.pcolormesh(degrees, degrees, mask_map, )\n",
    "plt.gca().set_aspect(\"equal\")\n",
    "print(\"Fraction of ROI unmasked:\", 1 - np.nansum(mask_map) / np.count_nonzero(~np.isnan(mask_map)))"
   ]
  },
  {
   "cell_type": "markdown",
   "id": "dae43f17",
   "metadata": {},
   "source": [
    "How many 4FGL sources are eliminated?"
   ]
  },
  {
   "cell_type": "code",
   "execution_count": null,
   "id": "981de84f",
   "metadata": {},
   "outputs": [],
   "source": [
    "cut_dr1_fluxes = []\n",
    "cut_dr2_fluxes = []\n",
    "for row in fgl_8_year:\n",
    "    if cut(row):\n",
    "        continue\n",
    "\n",
    "    lon = row[\"GLON\"]\n",
    "    if lon > 180:\n",
    "        lon -= 360\n",
    "    if not is_cut((lon, row[\"GLAT\"])):\n",
    "        cut_dr1_fluxes.append(row[\"Energy_Flux100\"])\n",
    "        \n",
    "for row in fgl_10_year:\n",
    "    if cut(row):\n",
    "        continue\n",
    "\n",
    "    lon = row[\"GLON\"]\n",
    "    if lon > 180:\n",
    "        lon -= 360\n",
    "    if not is_cut((lon, row[\"GLAT\"])):\n",
    "        cut_dr2_fluxes.append(row[\"Energy_Flux100\"])\n",
    "        \n",
    "print(len(passed_fluxes_8_year), len(cut_dr1_fluxes))\n",
    "print(len(passed_fluxes_10_year), len(cut_dr2_fluxes))"
   ]
  },
  {
   "cell_type": "code",
   "execution_count": null,
   "id": "47980ffd",
   "metadata": {},
   "outputs": [],
   "source": [
    "F_MIN = 1e-12\n",
    "F_MAX = 5e-10#2e-11\n",
    "bins = 10**np.linspace(np.log10(F_MIN), np.log10(F_MAX), 11)\n",
    "\n",
    "plt.axvline(label=\"10 year $F_\\\\mathrm{th}$\", x=4e-12, color='k', linestyle='dashed')\n",
    "#plt.hist(passed_fluxes_10_year, label=\"10 year (4FGL-DR2)\", alpha=0.5, bins=bins)\n",
    "plt.hist(passed_fluxes_8_year, label=\"8 year (4FGL-DR1)\", alpha=0.5, bins=bins, color=\"C1\")\n",
    "plt.hist(cut_dr1_fluxes, label=\"8 year masked (4FGL-DR1)\", alpha=0.5, bins=bins, fill=False, histtype=\"stepfilled\")\n",
    "#plt.hist(passed_fluxes_3, label=\"4-year (3 FGL)\", alpha=0.5, bins=bins)\n",
    "plt.hist(passed_fluxes_fermi_8_year, label=\"Wavelet\", alpha=0.3, bins=bins, color='k', linewidth=2)\n",
    "plt.hist(passed_fluxes_fermi_8_year, bins=bins, fill=False,histtype=\"stepfilled\",\n",
    "        linewidth=2)\n",
    "#plt.hist(passed_fluxes_fermi_8_year + passed_fluxes_3, bins=bins, fill=False, histtype=\"stepfilled\",\n",
    "#        linewidth=1)\n",
    "\n",
    "plt.xscale('log')\n",
    "#plt.yscale('log')\n",
    "plt.ylabel(\"Resolved PS Count\")\n",
    "plt.xlabel(\"PS Flux (erg / cm$^2$ / s)\")\n",
    "#plt.axvline(label=\"1 photon\", x=1.91e-13, color='k', linestyle='dotted')\n",
    "plt.legend(loc='upper right')\n",
    "\n",
    "print(len(passed_fluxes_fermi_8_year) + len(passed_fluxes_3), len(cut_dr1_fluxes))"
   ]
  },
  {
   "cell_type": "markdown",
   "id": "0051eace",
   "metadata": {},
   "source": [
    "# Is every 3FGL PS associated with a 4FGL?"
   ]
  },
  {
   "cell_type": "code",
   "execution_count": null,
   "id": "2ba9b41b",
   "metadata": {},
   "outputs": [],
   "source": [
    "assoc_3_names = {}\n",
    "\n",
    "for row4 in fgl_8_year:\n",
    "    if cut(row4):\n",
    "        continue\n",
    "    if row4[\"ASSOC_FGL\"] != \"\" and row4[\"ASSOC_FGL\"][:4]== \"3FGL\":\n",
    "        #print(row4[\"ASSOC_FGL\"][5:])\n",
    "        assoc_3_names[row4[\"ASSOC_FGL\"]] = (row4[\"Energy_Flux100\"], row4[\"ASSOC1\"])\n",
    "        \n",
    "fgl3_not_in_fgl4 = 0\n",
    "in_both = 0\n",
    "flux_shift = []\n",
    "for row3 in fgl_3:\n",
    "    if cut(row3):\n",
    "        continue\n",
    "    if row3[\"Source_Name\"] not in assoc_3_names:\n",
    "        fgl3_not_in_fgl4 += 1\n",
    "        continue\n",
    "    in_both += 1\n",
    "    print(assoc_3_names[row3[\"Source_Name\"]][1], row3[\"ASSOC1\"])\n",
    "    flux_shift.append((row3[\"Energy_Flux100\"] - assoc_3_names[row3[\"Source_Name\"]][0]) / assoc_3_names[row3[\"Source_Name\"]][0])"
   ]
  },
  {
   "cell_type": "code",
   "execution_count": null,
   "id": "9005d297",
   "metadata": {},
   "outputs": [],
   "source": [
    "plt.hist(flux_shift, bins=10)\n",
    "plt.xlabel(\"(3FGL flux - 4FGL flux) / 4FGL flux\")\n",
    "plt.ylabel(\"Number of sources common to both catalogs\")\n",
    "\n",
    "print(f\"{in_both} sources are in both catalogs\")\n",
    "print(f\"{fgl3_not_in_fgl4} sources are in 3FGL but not 4FGL\")"
   ]
  },
  {
   "cell_type": "markdown",
   "id": "c5186a61",
   "metadata": {},
   "source": [
    "# Does 4FGL 10 year explain the unidentified wavelet peaks?"
   ]
  },
  {
   "cell_type": "code",
   "execution_count": null,
   "id": "ed1eb4b4",
   "metadata": {},
   "outputs": [],
   "source": [
    "unidentified = [[  4.95,  19.25], [ -2.35,  19.15], [-0.15, -17.75],[16.55,  15.05], [ -4.55,  14.55],\n",
    "    [  8.75,  -2.35], [ -8.55,  -5.85], [ 15.75, -11.45], [  3.25, -14.25], [ -6.55,  18.45]]"
   ]
  },
  {
   "cell_type": "code",
   "execution_count": null,
   "id": "f3bfacc7",
   "metadata": {},
   "outputs": [],
   "source": [
    "DIST_THRESHOLD = 0.55\n",
    "for row4 in fgl_8_year:\n",
    "    ps_lon, ps_lat = row4[\"GLON\"], row4[\"GLAT\"]\n",
    "    if ps_lon > 180:\n",
    "        ps_lon -= 360\n",
    "    for wave_lon, wave_lat in unidentified:\n",
    "        if np.sqrt((ps_lon - wave_lon)**2 + (ps_lat - wave_lat)**2) < DIST_THRESHOLD:\n",
    "            print(\"Matched wavelet to 4FGL PS\")\n",
    "            break"
   ]
  },
  {
   "cell_type": "markdown",
   "id": "5a8df482",
   "metadata": {},
   "source": [
    "# All together"
   ]
  },
  {
   "cell_type": "code",
   "execution_count": 97,
   "id": "46964135",
   "metadata": {},
   "outputs": [
    {
     "ename": "NameError",
     "evalue": "name 'cut_dr2_fluxes' is not defined",
     "output_type": "error",
     "traceback": [
      "\u001b[0;31m---------------------------------------------------------------------------\u001b[0m",
      "\u001b[0;31mNameError\u001b[0m                                 Traceback (most recent call last)",
      "\u001b[0;32m<ipython-input-97-8c1fab6af294>\u001b[0m in \u001b[0;36m<module>\u001b[0;34m\u001b[0m\n\u001b[1;32m      8\u001b[0m \u001b[0mplt\u001b[0m\u001b[0;34m.\u001b[0m\u001b[0mhist\u001b[0m\u001b[0;34m(\u001b[0m\u001b[0mpassed_fluxes_8_year\u001b[0m\u001b[0;34m,\u001b[0m \u001b[0mlabel\u001b[0m\u001b[0;34m=\u001b[0m\u001b[0;34m\"4FGL-DR1\"\u001b[0m\u001b[0;34m,\u001b[0m \u001b[0mbins\u001b[0m\u001b[0;34m=\u001b[0m\u001b[0mbins\u001b[0m\u001b[0;34m,\u001b[0m \u001b[0malpha\u001b[0m\u001b[0;34m=\u001b[0m\u001b[0mALPHA\u001b[0m\u001b[0;34m,\u001b[0m \u001b[0mcolor\u001b[0m\u001b[0;34m=\u001b[0m\u001b[0;34m\"C1\"\u001b[0m\u001b[0;34m)\u001b[0m\u001b[0;34m\u001b[0m\u001b[0;34m\u001b[0m\u001b[0m\n\u001b[1;32m      9\u001b[0m \u001b[0mplt\u001b[0m\u001b[0;34m.\u001b[0m\u001b[0mhist\u001b[0m\u001b[0;34m(\u001b[0m\u001b[0mpassed_fluxes_3\u001b[0m\u001b[0;34m,\u001b[0m \u001b[0mlabel\u001b[0m\u001b[0;34m=\u001b[0m\u001b[0;34m\"3 FGL\"\u001b[0m\u001b[0;34m,\u001b[0m \u001b[0mbins\u001b[0m\u001b[0;34m=\u001b[0m\u001b[0mbins\u001b[0m\u001b[0;34m,\u001b[0m \u001b[0mcolor\u001b[0m\u001b[0;34m=\u001b[0m\u001b[0;34m\"C2\"\u001b[0m\u001b[0;34m,\u001b[0m \u001b[0malpha\u001b[0m\u001b[0;34m=\u001b[0m\u001b[0mALPHA\u001b[0m\u001b[0;34m)\u001b[0m\u001b[0;34m\u001b[0m\u001b[0;34m\u001b[0m\u001b[0m\n\u001b[0;32m---> 10\u001b[0;31m plt.hist(cut_dr2_fluxes, label=\"DR2$-$mask\", fill=False, bins=bins, histtype=\"stepfilled\",\n\u001b[0m\u001b[1;32m     11\u001b[0m         edgecolor=[0x1f * RGB_SCALE,0x77 * RGB_SCALE,0xb4 * RGB_SCALE], linewidth=2, linestyle=\"solid\")\n\u001b[1;32m     12\u001b[0m plt.hist(cut_dr1_fluxes, label=\"DR1$-$mask\", fill=False, bins=bins, histtype=\"stepfilled\",\n",
      "\u001b[0;31mNameError\u001b[0m: name 'cut_dr2_fluxes' is not defined"
     ]
    },
    {
     "data": {
      "image/png": "[encoded data removed]",
      "text/plain": [
       "<Figure size 468x288 with 1 Axes>"
      ]
     },
     "metadata": {
      "needs_background": "light"
     },
     "output_type": "display_data"
    }
   ],
   "source": [
    "ALPHA=0.5\n",
    "F_MIN = 1.9590460265411667e-12\n",
    "F_MAX = 1.641357403841938e-11\n",
    "RGB_SCALE = 0.8/256\n",
    "bins = 10**np.linspace(np.log10(F_MIN), np.log10(F_MAX), 8)\n",
    "\n",
    "plt.hist(passed_fluxes_10_year, label=\"4FGL-DR2\", bins=bins, alpha=ALPHA, color=\"C0\")\n",
    "plt.hist(passed_fluxes_8_year, label=\"4FGL-DR1\", bins=bins, alpha=ALPHA, color=\"C1\")\n",
    "plt.hist(passed_fluxes_3, label=\"3 FGL\", bins=bins, color=\"C2\", alpha=ALPHA)\n",
    "plt.hist(cut_dr2_fluxes, label=\"DR2$-$mask\", fill=False, bins=bins, histtype=\"stepfilled\",\n",
    "        edgecolor=[0x1f * RGB_SCALE,0x77 * RGB_SCALE,0xb4 * RGB_SCALE], linewidth=2, linestyle=\"solid\")\n",
    "plt.hist(cut_dr1_fluxes, label=\"DR1$-$mask\", fill=False, bins=bins, histtype=\"stepfilled\",\n",
    "        edgecolor=[0xff * RGB_SCALE, 0x7f * RGB_SCALE, 0x0e * RGB_SCALE], linewidth=2, linestyle=\"dashed\")\n",
    "\n",
    "plt.hist(passed_fluxes_fermi_8_year, label=\"Wavelet\", bins=bins, color=[0, 0, 0, 0.3], histtype=\"stepfilled\",\n",
    "        linewidth=2, edgecolor=[0, 0, 0, 1])\n",
    "\n",
    "plt.axvline(label=\"DR2 $F_\\\\mathrm{th}$\", x=4e-12, color='k', linestyle='dashed', linewidth=1)\n",
    "\n",
    "print(len(passed_fluxes_fermi_8_year), len(cut_dr1_fluxes))\n",
    "\n",
    "plt.xscale('log')\n",
    "#plt.yscale('log')\n",
    "plt.ylabel(\"Resolved PS Count\")\n",
    "plt.xlabel(\"PS Flux (erg / cm$^2$ / s)\")\n",
    "#plt.axvline(label=\"1 photon\", x=1.91e-13, color='k', linestyle='dotted')\n",
    "plt.legend(loc='upper right')\n",
    "plt.tight_layout()\n",
    "\n",
    "#plt.savefig(\"compare-catalogs.pdf\")"
   ]
  },
  {
   "cell_type": "markdown",
   "id": "0660dec6",
   "metadata": {},
   "source": [
    "Done"
   ]
  }
 ],
 "metadata": {
  "kernelspec": {
   "display_name": "Python 3",
   "language": "python",
   "name": "python3"
  },
  "language_info": {
   "codemirror_mode": {
    "name": "ipython",
    "version": 3
   },
   "file_extension": ".py",
   "mimetype": "text/x-python",
   "name": "python",
   "nbconvert_exporter": "python",
   "pygments_lexer": "ipython3",
   "version": "3.8.10"
  }
 },
 "nbformat": 4,
 "nbformat_minor": 5
}
