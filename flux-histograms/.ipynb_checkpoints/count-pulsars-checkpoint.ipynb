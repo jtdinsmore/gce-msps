{
 "cells": [
  {
   "cell_type": "code",
   "execution_count": 1,
   "id": "14271aa0",
   "metadata": {},
   "outputs": [],
   "source": [
    "import matplotlib.pyplot as plt\n",
    "import numpy as np\n",
    "import pandas as pd\n",
    "from astropy.io import fits\n",
    "import numpy as np\n",
    "from matplotlib import pyplot as plt\n",
    "from scipy import stats\n",
    "from scipy.special import gammainc, gamma\n",
    "\n",
    "plt.style.use('jcap')\n",
    "\n",
    "DISTANCE_CUT = 2\n",
    "F_GCE = 1.794113925439598e-09\n",
    "\n",
    "\n",
    "# Catalog documented here:\n",
    "# https://fermi.gsfc.nasa.gov/ssc/data/access/lat/8yr_catalog/4FGL_Catalog_submit.pdf"
   ]
  },
  {
   "cell_type": "code",
   "execution_count": 2,
   "id": "525d5081",
   "metadata": {},
   "outputs": [
    {
     "name": "stdout",
     "output_type": "stream",
     "text": [
      "77 were at (0, 0. 8.5)\n"
     ]
    }
   ],
   "source": [
    "def load_dist_file(filename):\n",
    "    names = []\n",
    "    glons = []\n",
    "    glats = []\n",
    "    galact_cent_dists = []\n",
    "    sun_count = 0\n",
    "    \n",
    "    f = open(filename)\n",
    "    for line in f.readlines():\n",
    "        if line == '\\n' or line == '':\n",
    "            continue\n",
    "        entries = line.split(' ')\n",
    "        while '' in entries: entries.remove('')\n",
    "        number, _, name, _, glon, glat, z, x, y = entries\n",
    "        if float(z) == 0.0 and float(x) == 0.0 and float(y) == 8.5:\n",
    "            sun_count += 1\n",
    "            \n",
    "        galact_cent_dist = np.sqrt(float(z)**2 + float(y)**2 + float(x)**2)\n",
    "\n",
    "        names.append(name)\n",
    "        glons.append(float(glon))\n",
    "        glats.append(float(glat))\n",
    "        galact_cent_dists.append(galact_cent_dist)\n",
    "    f.close()\n",
    "    \n",
    "    print(sun_count, \"were at (0, 0. 8.5)\")\n",
    "    \n",
    "    names = np.asarray(names)\n",
    "    galact_cent_dists = np.asarray(galact_cent_dists)\n",
    "    return pd.DataFrame(data={\"Source_Name\": names, \"GLON\":glons, \"GLAT\":glats, \"Dist\": galact_cent_dists})\n",
    "\n",
    "all_distances = load_dist_file(\"data/known-pulsars.txt\")"
   ]
  },
  {
   "cell_type": "code",
   "execution_count": 4,
   "id": "2155ed58",
   "metadata": {},
   "outputs": [],
   "source": [
    "hdul = fits.open('data/gll_psc_v22.fit')\n",
    "fgl_8_year = hdul[1].data\n",
    "hdul.close()\n",
    "\n",
    "hdul = fits.open('data/gll_psc_v27.fit')\n",
    "fgl_10_year = hdul[1].data\n",
    "hdul.close()\n",
    "\n",
    "hdul = fits.open('data/gll_psc_v16.fit')# 3FGL\n",
    "fgl_3 = hdul[1].data\n",
    "hdul.close()\n",
    "\n",
    "\n",
    "\n",
    "def get_distance(assocName):\n",
    "    dists = all_distances[\"Dist\"][all_distances[\"Source_Name\"] == assocName[4:]]\n",
    "    if len(dists) == 1:\n",
    "        return float(dists)\n",
    "    return None"
   ]
  },
  {
   "cell_type": "code",
   "execution_count": 11,
   "id": "b20e15f7",
   "metadata": {},
   "outputs": [
    {
     "name": "stdout",
     "output_type": "stream",
     "text": [
      "Pulsar with distance -1 detected\n",
      "Pulsar with distance -1 detected\n",
      "Pulsar with distance -1 detected\n",
      "Pulsar with distance -1 detected\n",
      "Pulsar with distance -1 detected\n",
      "Pulsar with distance 1.3404331389517345 detected\n",
      "Pulsar with distance 1.6105694645062658 detected\n",
      "Pulsar with distance 2.083528497525292 detected\n",
      "Pulsar with distance 3.2103275533814304 detected\n",
      "Pulsar with distance 3.901577629626251 detected\n",
      "Pulsar with distance 5.59634827365131 detected\n",
      "Pulsar with distance 6.037643580073272 detected\n",
      "Pulsar with distance 6.063425929291129 detected\n",
      "Pulsar with distance 6.6902873630360595 detected\n",
      "Pulsar with distance 6.699705739806786 detected\n",
      "Pulsar with distance 6.798450705859387 detected\n",
      "Pulsar with distance 7.336705050634106 detected\n",
      "Pulsar with distance 7.438589785705352 detected\n",
      "Pulsar with distance 7.627119508700516 detected\n",
      "Pulsar with distance 7.774918198926597 detected\n",
      "Pulsar with distance 7.884341253395873 detected\n",
      "Pulsar with distance 8.123859796919195 detected\n",
      "Pulsar with distance 8.203107581886268 detected\n",
      "Pulsar with distance 8.5 detected\n",
      "Pulsar with distance 8.5 detected\n",
      "Pulsar with distance 8.5 detected\n",
      "26\n"
     ]
    }
   ],
   "source": [
    "distances = []\n",
    "\n",
    "for row in fgl_10_year:\n",
    "    #ROI cut\n",
    "    if 20 < row[\"GLON\"] < 340:\n",
    "        continue\n",
    "    if row[\"GLAT\"] > 20 or row[\"GLAT\"] < -20:\n",
    "        continue\n",
    "    if -2 < row[\"GLAT\"] < 2:\n",
    "        continue\n",
    "\n",
    "    if row[\"CLASS1\"] in ['psr', 'PSR']:\n",
    "        d = get_distance(row['ASSOC1'])\n",
    "        d = d if d is not None else -1\n",
    "        distances.append(d)\n",
    "    if row[\"CLASS2\"] in ['psr', 'PSR']:\n",
    "        d = get_distance(row['ASSOC2'])\n",
    "        d = d if d is not None else -1\n",
    "        distances.append(d)\n",
    "        \n",
    "distances = sorted(distances)\n",
    "\n",
    "for d in distances:\n",
    "    print(f\"Pulsar with distance {d} detected\")\n",
    "    \n",
    "print(len(distances))"
   ]
  },
  {
   "cell_type": "code",
   "execution_count": null,
   "id": "aef32a7c",
   "metadata": {},
   "outputs": [],
   "source": []
  }
 ],
 "metadata": {
  "kernelspec": {
   "display_name": "Python 3",
   "language": "python",
   "name": "python3"
  },
  "language_info": {
   "codemirror_mode": {
    "name": "ipython",
    "version": 3
   },
   "file_extension": ".py",
   "mimetype": "text/x-python",
   "name": "python",
   "nbconvert_exporter": "python",
   "pygments_lexer": "ipython3",
   "version": "3.8.10"
  }
 },
 "nbformat": 4,
 "nbformat_minor": 5
}
