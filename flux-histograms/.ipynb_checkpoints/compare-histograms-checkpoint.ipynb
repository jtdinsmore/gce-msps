{
 "cells": [
  {
   "cell_type": "markdown",
   "id": "116f0520",
   "metadata": {},
   "source": [
    "# Comparing histograms to each other\n",
    "\n",
    "I want to know if higher sensitivity histograms are able to be told apart better. The answer is no."
   ]
  },
  {
   "cell_type": "code",
   "execution_count": 1,
   "id": "f17a3c46",
   "metadata": {},
   "outputs": [],
   "source": [
    "import numpy as np\n",
    "import matplotlib.pyplot as plt\n",
    "from scipy import stats\n",
    "\n",
    "DIRECTORY = \"smoothing\"\n",
    "\n",
    "plt.style.use(\"jcap\")"
   ]
  },
  {
   "cell_type": "code",
   "execution_count": 2,
   "id": "91c65462",
   "metadata": {},
   "outputs": [],
   "source": [
    "lf_names = \"power-law log-normal ploeg gautam nptf\".split()"
   ]
  },
  {
   "cell_type": "code",
   "execution_count": 3,
   "id": "2a5fe46f",
   "metadata": {},
   "outputs": [],
   "source": [
    "def get_lum_func(lf_index, sensitivity, norm=None):\n",
    "    f = open(\"../luminosity-models-{}/data-{}x/{}/flux-hist.txt\".format(DIRECTORY, sensitivity, lf_names[lf_index]), 'r')\n",
    "    header = f.readline()\n",
    "    counts = np.asarray([float(i) for i in f.readline().split(\",\")[:-1]])\n",
    "    bin_centers = np.asarray([float(i) for i in f.readline().split(\",\")[:-1]])\n",
    "    f.close()\n",
    "    \n",
    "    if norm is not None:\n",
    "        counts *= norm / sum(counts)\n",
    "    \n",
    "    return bin_centers, counts\n",
    "\n",
    "def draw_from_counts(counts, n_draws):\n",
    "    return np.asarray([np.random.poisson(counts) for i in range(n_draws)])"
   ]
  },
  {
   "cell_type": "markdown",
   "id": "6d12316c",
   "metadata": {},
   "source": [
    "## Example of drawing from a distribution"
   ]
  },
  {
   "cell_type": "code",
   "execution_count": 4,
   "id": "278f85ae",
   "metadata": {},
   "outputs": [],
   "source": [
    "centers, counts = get_lum_func(0, 1)\n",
    "predicted_distro = np.sum(draw_from_counts(counts, 100), axis=0)"
   ]
  },
  {
   "cell_type": "code",
   "execution_count": 5,
   "id": "1029f764",
   "metadata": {},
   "outputs": [
    {
     "data": {
      "text/plain": [
       "[<matplotlib.lines.Line2D at 0x7f051a16fdc0>]"
      ]
     },
     "execution_count": 5,
     "metadata": {},
     "output_type": "execute_result"
    },
    {
     "data": {
      "image/png": "[encoded data removed]",
      "text/plain": [
       "<Figure size 468x288 with 1 Axes>"
      ]
     },
     "metadata": {
      "needs_background": "light"
     },
     "output_type": "display_data"
    }
   ],
   "source": [
    "plt.plot(centers, counts)\n",
    "plt.plot(centers, predicted_distro / 100)"
   ]
  },
  {
   "cell_type": "code",
   "execution_count": 6,
   "id": "880905cd",
   "metadata": {},
   "outputs": [
    {
     "data": {
      "text/plain": [
       "0.5585454122354403"
      ]
     },
     "execution_count": 6,
     "metadata": {},
     "output_type": "execute_result"
    }
   ],
   "source": [
    "CONST_RESCALE = True\n",
    "\n",
    "def get_redchi(lf1, lf2, sens, n_draws):\n",
    "    \n",
    "    if CONST_RESCALE:\n",
    "        centers2, counts2 = get_lum_func(lf2, sens, norm=47)# True\n",
    "        centers1, counts1 = get_lum_func(lf1, sens, norm=47)\n",
    "    else:\n",
    "        centers2, counts2 = get_lum_func(lf2, sens, norm=None)# True\n",
    "        centers1, counts1 = get_lum_func(lf1, sens, norm=np.sum(counts2))\n",
    "        \n",
    "    draws = draw_from_counts(counts2, n_draws)\n",
    "    chisqs = []\n",
    "    for i in range(n_draws):\n",
    "        observed = draws[i]\n",
    "        expected = counts1\n",
    "        chisq = np.nansum((observed - expected)**2 / expected)\n",
    "        chisqs.append(chisq)\n",
    "    chisqs = np.asarray(chisqs)\n",
    "    # This is the part I'm unsure about. Average the chisqs?\n",
    "    chisq = np.mean(chisqs)\n",
    "    dof = len(expected) - 1\n",
    "    \n",
    "    return chisq / dof#1 - stats.chi2.cdf(chisq, dof)\n",
    "\n",
    "get_redchi(2, 4, 1, 1)# 4 (NPTF) is true\n",
    "#get_redchi(4, 2, 1, 1)# 2 (GLC) is true"
   ]
  },
  {
   "cell_type": "code",
   "execution_count": 7,
   "id": "6beb4d57",
   "metadata": {},
   "outputs": [],
   "source": [
    "def get_p_matrix(sens, n_draws):\n",
    "    mat = []\n",
    "    for lf1 in range(5):\n",
    "        line = []\n",
    "        for lf2 in range(5):\n",
    "            line.append(get_redchi(lf1, lf2, sens, n_draws))\n",
    "        mat.append(np.asarray(line))\n",
    "    return np.asarray(mat)"
   ]
  },
  {
   "cell_type": "code",
   "execution_count": 8,
   "id": "00b6b3bb",
   "metadata": {},
   "outputs": [
    {
     "ename": "KeyboardInterrupt",
     "evalue": "",
     "output_type": "error",
     "traceback": [
      "\u001b[0;31m---------------------------------------------------------------------------\u001b[0m",
      "\u001b[0;31mKeyboardInterrupt\u001b[0m                         Traceback (most recent call last)",
      "\u001b[0;32m<ipython-input-8-f558bd5da752>\u001b[0m in \u001b[0;36m<module>\u001b[0;34m\u001b[0m\n\u001b[1;32m      1\u001b[0m \u001b[0mSENSITIVITIES\u001b[0m \u001b[0;34m=\u001b[0m \u001b[0;34m[\u001b[0m\u001b[0;36m1\u001b[0m\u001b[0;34m,\u001b[0m \u001b[0;36m2\u001b[0m\u001b[0;34m,\u001b[0m \u001b[0;36m5\u001b[0m\u001b[0;34m,\u001b[0m \u001b[0;36m10\u001b[0m\u001b[0;34m]\u001b[0m\u001b[0;34m\u001b[0m\u001b[0;34m\u001b[0m\u001b[0m\n\u001b[0;32m----> 2\u001b[0;31m \u001b[0mmats\u001b[0m \u001b[0;34m=\u001b[0m \u001b[0;34m[\u001b[0m\u001b[0mget_p_matrix\u001b[0m\u001b[0;34m(\u001b[0m\u001b[0msens\u001b[0m\u001b[0;34m,\u001b[0m \u001b[0;36m10000\u001b[0m\u001b[0;34m)\u001b[0m \u001b[0;32mfor\u001b[0m \u001b[0msens\u001b[0m \u001b[0;32min\u001b[0m \u001b[0mSENSITIVITIES\u001b[0m\u001b[0;34m]\u001b[0m\u001b[0;34m\u001b[0m\u001b[0;34m\u001b[0m\u001b[0m\n\u001b[0m",
      "\u001b[0;32m<ipython-input-8-f558bd5da752>\u001b[0m in \u001b[0;36m<listcomp>\u001b[0;34m(.0)\u001b[0m\n\u001b[1;32m      1\u001b[0m \u001b[0mSENSITIVITIES\u001b[0m \u001b[0;34m=\u001b[0m \u001b[0;34m[\u001b[0m\u001b[0;36m1\u001b[0m\u001b[0;34m,\u001b[0m \u001b[0;36m2\u001b[0m\u001b[0;34m,\u001b[0m \u001b[0;36m5\u001b[0m\u001b[0;34m,\u001b[0m \u001b[0;36m10\u001b[0m\u001b[0;34m]\u001b[0m\u001b[0;34m\u001b[0m\u001b[0;34m\u001b[0m\u001b[0m\n\u001b[0;32m----> 2\u001b[0;31m \u001b[0mmats\u001b[0m \u001b[0;34m=\u001b[0m \u001b[0;34m[\u001b[0m\u001b[0mget_p_matrix\u001b[0m\u001b[0;34m(\u001b[0m\u001b[0msens\u001b[0m\u001b[0;34m,\u001b[0m \u001b[0;36m10000\u001b[0m\u001b[0;34m)\u001b[0m \u001b[0;32mfor\u001b[0m \u001b[0msens\u001b[0m \u001b[0;32min\u001b[0m \u001b[0mSENSITIVITIES\u001b[0m\u001b[0;34m]\u001b[0m\u001b[0;34m\u001b[0m\u001b[0;34m\u001b[0m\u001b[0m\n\u001b[0m",
      "\u001b[0;32m<ipython-input-7-61d54a15fda1>\u001b[0m in \u001b[0;36mget_p_matrix\u001b[0;34m(sens, n_draws)\u001b[0m\n\u001b[1;32m      4\u001b[0m         \u001b[0mline\u001b[0m \u001b[0;34m=\u001b[0m \u001b[0;34m[\u001b[0m\u001b[0;34m]\u001b[0m\u001b[0;34m\u001b[0m\u001b[0;34m\u001b[0m\u001b[0m\n\u001b[1;32m      5\u001b[0m         \u001b[0;32mfor\u001b[0m \u001b[0mlf2\u001b[0m \u001b[0;32min\u001b[0m \u001b[0mrange\u001b[0m\u001b[0;34m(\u001b[0m\u001b[0;36m5\u001b[0m\u001b[0;34m)\u001b[0m\u001b[0;34m:\u001b[0m\u001b[0;34m\u001b[0m\u001b[0;34m\u001b[0m\u001b[0m\n\u001b[0;32m----> 6\u001b[0;31m             \u001b[0mline\u001b[0m\u001b[0;34m.\u001b[0m\u001b[0mappend\u001b[0m\u001b[0;34m(\u001b[0m\u001b[0mget_redchi\u001b[0m\u001b[0;34m(\u001b[0m\u001b[0mlf1\u001b[0m\u001b[0;34m,\u001b[0m \u001b[0mlf2\u001b[0m\u001b[0;34m,\u001b[0m \u001b[0msens\u001b[0m\u001b[0;34m,\u001b[0m \u001b[0mn_draws\u001b[0m\u001b[0;34m)\u001b[0m\u001b[0;34m)\u001b[0m\u001b[0;34m\u001b[0m\u001b[0;34m\u001b[0m\u001b[0m\n\u001b[0m\u001b[1;32m      7\u001b[0m         \u001b[0mmat\u001b[0m\u001b[0;34m.\u001b[0m\u001b[0mappend\u001b[0m\u001b[0;34m(\u001b[0m\u001b[0mnp\u001b[0m\u001b[0;34m.\u001b[0m\u001b[0masarray\u001b[0m\u001b[0;34m(\u001b[0m\u001b[0mline\u001b[0m\u001b[0;34m)\u001b[0m\u001b[0;34m)\u001b[0m\u001b[0;34m\u001b[0m\u001b[0;34m\u001b[0m\u001b[0m\n\u001b[1;32m      8\u001b[0m     \u001b[0;32mreturn\u001b[0m \u001b[0mnp\u001b[0m\u001b[0;34m.\u001b[0m\u001b[0masarray\u001b[0m\u001b[0;34m(\u001b[0m\u001b[0mmat\u001b[0m\u001b[0;34m)\u001b[0m\u001b[0;34m\u001b[0m\u001b[0;34m\u001b[0m\u001b[0m\n",
      "\u001b[0;32m<ipython-input-6-a19e0943d919>\u001b[0m in \u001b[0;36mget_redchi\u001b[0;34m(lf1, lf2, sens, n_draws)\u001b[0m\n\u001b[1;32m     10\u001b[0m         \u001b[0mcenters1\u001b[0m\u001b[0;34m,\u001b[0m \u001b[0mcounts1\u001b[0m \u001b[0;34m=\u001b[0m \u001b[0mget_lum_func\u001b[0m\u001b[0;34m(\u001b[0m\u001b[0mlf1\u001b[0m\u001b[0;34m,\u001b[0m \u001b[0msens\u001b[0m\u001b[0;34m,\u001b[0m \u001b[0mnorm\u001b[0m\u001b[0;34m=\u001b[0m\u001b[0mnp\u001b[0m\u001b[0;34m.\u001b[0m\u001b[0msum\u001b[0m\u001b[0;34m(\u001b[0m\u001b[0mcounts2\u001b[0m\u001b[0;34m)\u001b[0m\u001b[0;34m)\u001b[0m\u001b[0;34m\u001b[0m\u001b[0;34m\u001b[0m\u001b[0m\n\u001b[1;32m     11\u001b[0m \u001b[0;34m\u001b[0m\u001b[0m\n\u001b[0;32m---> 12\u001b[0;31m     \u001b[0mdraws\u001b[0m \u001b[0;34m=\u001b[0m \u001b[0mdraw_from_counts\u001b[0m\u001b[0;34m(\u001b[0m\u001b[0mcounts2\u001b[0m\u001b[0;34m,\u001b[0m \u001b[0mn_draws\u001b[0m\u001b[0;34m)\u001b[0m\u001b[0;34m\u001b[0m\u001b[0;34m\u001b[0m\u001b[0m\n\u001b[0m\u001b[1;32m     13\u001b[0m     \u001b[0mchisqs\u001b[0m \u001b[0;34m=\u001b[0m \u001b[0;34m[\u001b[0m\u001b[0;34m]\u001b[0m\u001b[0;34m\u001b[0m\u001b[0;34m\u001b[0m\u001b[0m\n\u001b[1;32m     14\u001b[0m     \u001b[0;32mfor\u001b[0m \u001b[0mi\u001b[0m \u001b[0;32min\u001b[0m \u001b[0mrange\u001b[0m\u001b[0;34m(\u001b[0m\u001b[0mn_draws\u001b[0m\u001b[0;34m)\u001b[0m\u001b[0;34m:\u001b[0m\u001b[0;34m\u001b[0m\u001b[0;34m\u001b[0m\u001b[0m\n",
      "\u001b[0;32m<ipython-input-3-49a31d706538>\u001b[0m in \u001b[0;36mdraw_from_counts\u001b[0;34m(counts, n_draws)\u001b[0m\n\u001b[1;32m     12\u001b[0m \u001b[0;34m\u001b[0m\u001b[0m\n\u001b[1;32m     13\u001b[0m \u001b[0;32mdef\u001b[0m \u001b[0mdraw_from_counts\u001b[0m\u001b[0;34m(\u001b[0m\u001b[0mcounts\u001b[0m\u001b[0;34m,\u001b[0m \u001b[0mn_draws\u001b[0m\u001b[0;34m)\u001b[0m\u001b[0;34m:\u001b[0m\u001b[0;34m\u001b[0m\u001b[0;34m\u001b[0m\u001b[0m\n\u001b[0;32m---> 14\u001b[0;31m     \u001b[0;32mreturn\u001b[0m \u001b[0mnp\u001b[0m\u001b[0;34m.\u001b[0m\u001b[0masarray\u001b[0m\u001b[0;34m(\u001b[0m\u001b[0;34m[\u001b[0m\u001b[0mnp\u001b[0m\u001b[0;34m.\u001b[0m\u001b[0mrandom\u001b[0m\u001b[0;34m.\u001b[0m\u001b[0mpoisson\u001b[0m\u001b[0;34m(\u001b[0m\u001b[0mcounts\u001b[0m\u001b[0;34m)\u001b[0m \u001b[0;32mfor\u001b[0m \u001b[0mi\u001b[0m \u001b[0;32min\u001b[0m \u001b[0mrange\u001b[0m\u001b[0;34m(\u001b[0m\u001b[0mn_draws\u001b[0m\u001b[0;34m)\u001b[0m\u001b[0;34m]\u001b[0m\u001b[0;34m)\u001b[0m\u001b[0;34m\u001b[0m\u001b[0;34m\u001b[0m\u001b[0m\n\u001b[0m",
      "\u001b[0;32m<ipython-input-3-49a31d706538>\u001b[0m in \u001b[0;36m<listcomp>\u001b[0;34m(.0)\u001b[0m\n\u001b[1;32m     12\u001b[0m \u001b[0;34m\u001b[0m\u001b[0m\n\u001b[1;32m     13\u001b[0m \u001b[0;32mdef\u001b[0m \u001b[0mdraw_from_counts\u001b[0m\u001b[0;34m(\u001b[0m\u001b[0mcounts\u001b[0m\u001b[0;34m,\u001b[0m \u001b[0mn_draws\u001b[0m\u001b[0;34m)\u001b[0m\u001b[0;34m:\u001b[0m\u001b[0;34m\u001b[0m\u001b[0;34m\u001b[0m\u001b[0m\n\u001b[0;32m---> 14\u001b[0;31m     \u001b[0;32mreturn\u001b[0m \u001b[0mnp\u001b[0m\u001b[0;34m.\u001b[0m\u001b[0masarray\u001b[0m\u001b[0;34m(\u001b[0m\u001b[0;34m[\u001b[0m\u001b[0mnp\u001b[0m\u001b[0;34m.\u001b[0m\u001b[0mrandom\u001b[0m\u001b[0;34m.\u001b[0m\u001b[0mpoisson\u001b[0m\u001b[0;34m(\u001b[0m\u001b[0mcounts\u001b[0m\u001b[0;34m)\u001b[0m \u001b[0;32mfor\u001b[0m \u001b[0mi\u001b[0m \u001b[0;32min\u001b[0m \u001b[0mrange\u001b[0m\u001b[0;34m(\u001b[0m\u001b[0mn_draws\u001b[0m\u001b[0;34m)\u001b[0m\u001b[0;34m]\u001b[0m\u001b[0;34m)\u001b[0m\u001b[0;34m\u001b[0m\u001b[0;34m\u001b[0m\u001b[0m\n\u001b[0m",
      "\u001b[0;32mmtrand.pyx\u001b[0m in \u001b[0;36mnumpy.random.mtrand.RandomState.poisson\u001b[0;34m()\u001b[0m\n",
      "\u001b[0;32mmtrand.pyx\u001b[0m in \u001b[0;36mnumpy.random.mtrand.int64_to_long\u001b[0;34m()\u001b[0m\n",
      "\u001b[0;32m~/.local/lib/python3.8/site-packages/numpy/core/numeric.py\u001b[0m in \u001b[0;36misscalar\u001b[0;34m(element)\u001b[0m\n\u001b[1;32m   1814\u001b[0m \u001b[0;34m\u001b[0m\u001b[0m\n\u001b[1;32m   1815\u001b[0m \u001b[0;34m\u001b[0m\u001b[0m\n\u001b[0;32m-> 1816\u001b[0;31m \u001b[0;34m@\u001b[0m\u001b[0mset_module\u001b[0m\u001b[0;34m(\u001b[0m\u001b[0;34m'numpy'\u001b[0m\u001b[0;34m)\u001b[0m\u001b[0;34m\u001b[0m\u001b[0;34m\u001b[0m\u001b[0m\n\u001b[0m\u001b[1;32m   1817\u001b[0m \u001b[0;32mdef\u001b[0m \u001b[0misscalar\u001b[0m\u001b[0;34m(\u001b[0m\u001b[0melement\u001b[0m\u001b[0;34m)\u001b[0m\u001b[0;34m:\u001b[0m\u001b[0;34m\u001b[0m\u001b[0;34m\u001b[0m\u001b[0m\n\u001b[1;32m   1818\u001b[0m     \"\"\"\n",
      "\u001b[0;31mKeyboardInterrupt\u001b[0m: "
     ]
    }
   ],
   "source": [
    "SENSITIVITIES = [1, 2, 5, 10]\n",
    "mats = [get_p_matrix(sens, 10000) for sens in SENSITIVITIES]"
   ]
  },
  {
   "cell_type": "code",
   "execution_count": null,
   "id": "7b2db6eb",
   "metadata": {},
   "outputs": [],
   "source": [
    "fig, axs = plt.subplots(ncols=2, nrows=2, figsize=(8, 8))\n",
    "lf_display_names = [\"Power law\", \"GLC\", \"GCE\", \"AIC\", \"NPTF\"]\n",
    "\n",
    "for i, mat in enumerate(mats):\n",
    "    print(\"Sensitivity {}\".format(SENSITIVITIES[i]))\n",
    "    ax = axs[i//2][i%2]\n",
    "    ax.xaxis.tick_top()\n",
    "    c = ax.imshow(mat, vmin=0, vmax=2, cmap='Oranges')\n",
    "    ax.set_xticklabels(lf_display_names, rotation=90)\n",
    "    ax.set_yticklabels(lf_display_names, rotation=0)\n",
    "    ax.set_xticks([0, 1, 2, 3, 4])\n",
    "    ax.set_yticks([0, 1, 2, 3, 4])\n",
    "    for mi in range(len(lf_display_names)):\n",
    "        for mj in range(len(lf_display_names)):\n",
    "            color='k'\n",
    "            if mat[mi, mj] > 1.4:\n",
    "                color='w'\n",
    "            show_text = str(mat[mi, mj])[:4]\n",
    "            if np.log10(mat[mi, mj]) > 2:\n",
    "                show_text = str(mat[mi, mj])[:3]\n",
    "            text = ax.text(mj, mi, show_text, ha=\"center\", va=\"center\", color=color, size=15)\n",
    "    ax.set_title(\"Sensitivity $\\\\times$ {}\".format(SENSITIVITIES[i]))\n",
    "                   \n",
    "#cbar_ax = fig.add_axes([0.93, 0.03, 0.03, 0.8])\n",
    "#fig.colorbar(c, cax=cbar_ax, label=\"$\\chi^2_r$\")\n",
    "\n",
    "fig.tight_layout()\n",
    "if CONST_RESCALE:\n",
    "    fig.savefig(\"redchi-comparison-{}-47.pdf\".format(DIRECTORY))\n",
    "else:\n",
    "    fig.savefig(\"redchi-comparison-{}.pdf\".format(DIRECTORY))"
   ]
  },
  {
   "cell_type": "markdown",
   "id": "ece2d081",
   "metadata": {},
   "source": [
    "Done"
   ]
  }
 ],
 "metadata": {
  "kernelspec": {
   "display_name": "Python 3",
   "language": "python",
   "name": "python3"
  },
  "language_info": {
   "codemirror_mode": {
    "name": "ipython",
    "version": 3
   },
   "file_extension": ".py",
   "mimetype": "text/x-python",
   "name": "python",
   "nbconvert_exporter": "python",
   "pygments_lexer": "ipython3",
   "version": "3.8.10"
  }
 },
 "nbformat": 4,
 "nbformat_minor": 5
}
