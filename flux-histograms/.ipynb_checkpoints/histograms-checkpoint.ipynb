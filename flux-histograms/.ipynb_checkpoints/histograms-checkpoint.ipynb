{
 "cells": [
  {
   "cell_type": "markdown",
   "metadata": {},
   "source": [
    "# View Fermilab histograms"
   ]
  },
  {
   "cell_type": "code",
   "execution_count": 1,
   "metadata": {},
   "outputs": [],
   "source": [
    "import matplotlib.pyplot as plt\n",
    "import numpy as np\n",
    "import pandas as pd\n",
    "from astropy.io import fits\n",
    "import numpy as np\n",
    "from matplotlib import pyplot as plt\n",
    "from scipy import stats\n",
    "from scipy.special import gammainc, gamma\n",
    "\n",
    "plt.style.use('jcap')\n",
    "\n",
    "PI = 3.1415926535\n",
    "F_GCE = 1.794113925439598e-09\n",
    "ERGS_PER_GEV = 0.00160218\n",
    "\n",
    "CLASS_NAME = \"CLASS1\"\n",
    "\n",
    "# Catalog documented here:\n",
    "# https://fermi.gsfc.nasa.gov/ssc/data/access/lat/8yr_catalog/4FGL_Catalog_submit.pdf\n",
    "\n",
    "\n",
    "\n",
    "ALPHA_L = 1.94\n",
    "FLUX_TO_LUM_RATIO = 1.1095246594108431e-46\n",
    "L_EXCESS = F_GCE / FLUX_TO_LUM_RATIO#6.756e36# 6.37e36  # All units are in ergs per second\n",
    "L_THRESH = 1.0e34\n",
    "L_MIN = 1e29\n",
    "L_MAX = 1e35\n",
    "\n",
    "MANUALLY_EXCLUDE = [\"4FGL J1823.5-3020\"]\n",
    "MANUALLY_INCLUDE = []\n",
    "FILTER_BY_FERMILAB = True"
   ]
  },
  {
   "cell_type": "code",
   "execution_count": 2,
   "metadata": {},
   "outputs": [
    {
     "name": "stdout",
     "output_type": "stream",
     "text": [
      "103 were in Fermilab's list\n",
      "7 were added under extension.\n"
     ]
    }
   ],
   "source": [
    "plt.style.use('jcap')\n",
    "\n",
    "def load_file(fname, table=None):\n",
    "    names = []\n",
    "    f = open(fname, 'r')\n",
    "    for l in f.readlines():\n",
    "        if l == '':\n",
    "            return\n",
    "        if l[0] == '#':\n",
    "            continue\n",
    "        assert(l[0] == '[')\n",
    "        peak_l, peak_b, source_l, source_b, name = l[1:-2].split(', ')\n",
    "        name = name[2:-1]\n",
    "        while name[-1] == \" \":\n",
    "            name = name[:-1]\n",
    "        \n",
    "        already_included = name in names\n",
    "        if table is not None:\n",
    "            for name2 in table[\"Source_Name\"]:\n",
    "                if name2 == name:\n",
    "                    already_included = True\n",
    "                    break\n",
    "        if not already_included:\n",
    "            names.append(name)\n",
    "        \n",
    "    return pd.DataFrame(data=np.asarray([names]).transpose(),\n",
    "                        columns=('Source_Name',))\n",
    "        \n",
    "fermi_data = load_file(\"data/Fermi_front_only_4FGL_peak_identification_within_20_deg_search_.3_deg.txt\");\n",
    "fermi_data_extra = load_file(\"data/Fermi_front_only_4FGL_peak_identification_within_20_deg_search_.55_deg.txt\", fermi_data);\n",
    "\n",
    "print(len(fermi_data), \"were in Fermilab's list\")\n",
    "print(len(fermi_data_extra), \"were added under extension.\")"
   ]
  },
  {
   "cell_type": "code",
   "execution_count": 3,
   "metadata": {},
   "outputs": [
    {
     "name": "stdout",
     "output_type": "stream",
     "text": [
      "77 were at (0, 0. 8.5)\n"
     ]
    }
   ],
   "source": [
    "def load_dist_file(filename):\n",
    "    names = []\n",
    "    glons = []\n",
    "    glats = []\n",
    "    galact_cent_dists = []\n",
    "    sun_count = 0\n",
    "    \n",
    "    f = open(filename)\n",
    "    for line in f.readlines():\n",
    "        if line == '\\n' or line == '':\n",
    "            continue\n",
    "        entries = line.split(' ')\n",
    "        while '' in entries: entries.remove('')\n",
    "        number, _, name, _, glon, glat, z, x, y = entries\n",
    "        if float(z) == 0.0 and float(x) == 0.0 and float(y) == 8.5:\n",
    "            sun_count += 1\n",
    "            \n",
    "        galact_cent_dist = np.sqrt(float(z)**2 + float(y)**2 + float(x)**2)\n",
    "\n",
    "        names.append(name)\n",
    "        glons.append(float(glon))\n",
    "        glats.append(float(glat))\n",
    "        galact_cent_dists.append(galact_cent_dist)\n",
    "    f.close()\n",
    "    \n",
    "    print(sun_count, \"were at (0, 0. 8.5)\")\n",
    "    \n",
    "    names = np.asarray(names)\n",
    "    galact_cent_dists = np.asarray(galact_cent_dists)\n",
    "    return pd.DataFrame(data={\"Source_Name\": names, \"GLON\":glons, \"GLAT\":glats, \"Dist\": galact_cent_dists})\n",
    "\n",
    "all_distances = load_dist_file(\"data/known-pulsars.txt\")"
   ]
  },
  {
   "cell_type": "code",
   "execution_count": 4,
   "metadata": {},
   "outputs": [],
   "source": [
    "hdul = fits.open('data/gll_psc_v22.fit')\n",
    "fgl_data_dr1 = hdul[1].data\n",
    "hdul.close()\n",
    "\n",
    "hdul = fits.open('data/gll_psc_v27.fit')\n",
    "fgl_data_dr2 = hdul[1].data\n",
    "hdul.close()"
   ]
  },
  {
   "cell_type": "markdown",
   "metadata": {},
   "source": [
    "Check that all of Fermilab's PSs are in 4FGL"
   ]
  },
  {
   "cell_type": "code",
   "execution_count": 5,
   "metadata": {},
   "outputs": [],
   "source": [
    "for name in fgl_data_dr1[\"Source_Name\"]:\n",
    "    if name not in fgl_data_dr1[\"Source_Name\"]:\n",
    "        print(name + \" not found in 4FGL catalog\")"
   ]
  },
  {
   "cell_type": "code",
   "execution_count": 6,
   "metadata": {},
   "outputs": [
    {
     "name": "stdout",
     "output_type": "stream",
     "text": [
      "343 408\n"
     ]
    }
   ],
   "source": [
    "# Functions to filter point sources I don't want to include in my analysis\n",
    "BUFFER = 0\n",
    "INNER_BUFFER = 0\n",
    "\n",
    "def excludeLatLong(fgl_data, excludeMask):\n",
    "    thisMask = np.ones(fgl_data.shape[0], dtype=bool)\n",
    "    thisMask = thisMask & ((fgl_data[\"GLON\"] < 20+BUFFER) | (fgl_data[\"GLON\"] > 340-BUFFER))\n",
    "    thisMask = thisMask & (((-20- BUFFER < fgl_data[\"GLAT\"]) & (fgl_data[\"GLAT\"] < -2+INNER_BUFFER))\n",
    "        | ((2 - INNER_BUFFER < fgl_data[\"GLAT\"]) & (fgl_data[\"GLAT\"] < 20+BUFFER)))\n",
    "    return excludeMask & thisMask\n",
    "\n",
    "# Apply filters\n",
    "excludeMask_dr1 = np.ones(fgl_data_dr1.shape[0], dtype=bool)\n",
    "excludeMask_dr1 = excludeLatLong(fgl_data_dr1, excludeMask_dr1)\n",
    "excludeMask_dr2 = np.ones(fgl_data_dr2.shape[0], dtype=bool)\n",
    "excludeMask_dr2 = excludeLatLong(fgl_data_dr2, excludeMask_dr2)\n",
    "\n",
    "fgl_data_dr1 = fgl_data_dr1[excludeMask_dr1]\n",
    "fgl_data_dr2 = fgl_data_dr2[excludeMask_dr2]\n",
    "print(len(fgl_data_dr1), len(fgl_data_dr2))"
   ]
  },
  {
   "cell_type": "code",
   "execution_count": 9,
   "metadata": {},
   "outputs": [
    {
     "name": "stdout",
     "output_type": "stream",
     "text": [
      "Not in catalog: 4FGL J1626.9-2431e rho Ophiuchi\n",
      "Not in catalog: 4FGL J1858.5-4446 \n",
      "Not in catalog: 4FGL J1759.1-4822 PMN J1758-4820\n",
      "Not in catalog: 4FGL J1825.1-5231 PKS 1821-525\n",
      "Not in catalog: 4FGL J1830.2-4443 PMN J1830-4441\n",
      "Not in catalog: 4FGL J1822.9-4718 \n",
      "Not in catalog: 4FGL J1816.9-4942 PMN J1816-4943\n",
      "Not in catalog: 4FGL J1722.8-0418 \n",
      "Not in catalog: 4FGL J1858.3-2511 PMN J1858-2511\n",
      "Not in catalog: 4FGL J1808.4-3522 \n",
      "Not in catalog: 4FGL J1808.4-3358 \n",
      "Not in catalog: 4FGL J1845.8-2521 \n",
      "Not in catalog: 4FGL J1743.7-4321 \n",
      "Not in catalog: 4FGL J1807.8-4340 NGC 6541\n",
      "Not in catalog: 4FGL J1836.8-2354 \n",
      "Not in catalog: 4FGL J1710.1-2030 TXS 1707-204\n",
      "Not in catalog: 4FGL J1838.9-3457 AT20G J183923-345348\n",
      "Not in catalog: 4FGL J1835.7-3258 NGC 6652\n",
      "Not in catalog: 4FGL J1823.8-3544 \n",
      "Not in catalog: 4FGL J1725.1-1924 \n",
      "Not in catalog: 4FGL J1805.1-3618 \n",
      "Not in catalog: 4FGL J1659.7-3131 NVSS J165949-313047\n",
      "Not in catalog: 4FGL J1703.6-2850 \n",
      "Not in catalog: 4FGL J1649.8-3010 \n",
      "Not in catalog: 4FGL J1758.7-4109 \n",
      "Not in catalog: 4FGL J1736.2-4443 NGC 6388\n",
      "Not in catalog: 4FGL J1748.9-2021 NGC 6440\n",
      "Not in catalog: 4FGL J1830.7-2713 PMN J1831-2714\n",
      "Not in catalog: 4FGL J1906.4-1757 \n",
      "Not in catalog: 4FGL J1643.3-3148 \n",
      "Not in catalog: 4FGL J1817.9-3334 \n",
      "Not in catalog: 4FGL J1817.2-3035 \n",
      "Not in catalog: 4FGL J1744.0-1311 \n",
      "Not in catalog: 4FGL J1802.4-3041 \n",
      "Not in catalog: 4FGL J1753.3-3325 NVSS J175308-332637\n",
      "Not in catalog: 4FGL J1637.8-3449 NVSS J163750-344915\n",
      "Not in catalog: 4FGL J1830.7-1634 \n",
      "Not in catalog: 4FGL J1814.6-2537 \n",
      "Not in catalog: 4FGL J1657.4-3917c \n",
      "Not in catalog: 4FGL J1717.5-3342 TXS 1714-336\n",
      "Not in catalog: 4FGL J1750.3-3702 NGC 6441\n",
      "Not in catalog: 4FGL J1711.0-3002 \n",
      "Not in catalog: 4FGL J1813.7-1152 \n",
      "Not in catalog: 4FGL J1812.8-3144 \n",
      "Not in catalog: 4FGL J1759.1-3849 NVSS J175926-384753\n",
      "Not in catalog: 4FGL J1716.7-2808 NGC 6316\n",
      "Not in catalog: 4FGL J1808.5-3701 \n",
      "Not in catalog: 4FGL J1823.6-3453 NVSS J182338-345412\n",
      "Not in catalog: 4FGL J1744.9-1727 1RXS J174459.5-172640\n",
      "Not in catalog: 4FGL J1722.6-4529 SNR G343.0-06.0\n",
      "Not in catalog: 4FGL J1728.1-1610 \n",
      "Not in catalog: 4FGL J1656.3-3301 2MASS J16561677-3302127\n",
      "Not in catalog: 4FGL J1701.2-3006 M 62\n",
      "Not in catalog: 4FGL J1624.3-3952 \n",
      "Not in catalog: 4FGL J1711.9-1922 \n",
      "Not in catalog: 4FGL J1656.5-2733 \n",
      "Not in catalog: 4FGL J1830.8-3132 \n",
      "Not in catalog: 4FGL J1656.9-2010 NVSS J165655-201056\n",
      "Not in catalog: 4FGL J1735.3-0717 \n",
      "Not in catalog: 4FGL J1745.4-0753 TXS 1742-078\n",
      "Not in catalog: 4FGL J1753.6-5014 PMN J1753-5015\n",
      "Not in catalog: 4FGL J1916.8-3025 \n",
      "Not in catalog: 4FGL J1739.1-1059 \n",
      "Not in catalog: 4FGL J1824.2-5427 \n",
      "Not in catalog: 4FGL J1612.4-3100 NVSS J161219-305937\n",
      "Not in catalog: 4FGL J1911.4-1908 PMN J1911-1908\n",
      "Not in catalog: 4FGL J1808.1-5013 PMN J1808-5011\n",
      "Not in catalog: 4FGL J1728.0-4606 SNR G343.0-06.0\n",
      "Not in catalog: 4FGL J1849.4-4313 PMN J1849-4314\n",
      "Not in catalog: 4FGL J1924.8-2914 PKS B1921-293\n",
      "Not in catalog: 4FGL J1626.0-2950 PKS B1622-297\n",
      "Not in catalog: 4FGL J1730.4-0359 \n",
      "Not in catalog: 4FGL J1923.5-2104 TXS 1920-211\n",
      "Not in catalog: 4FGL J1553.5-3118 1RXS J155333.4-311841\n",
      "Not in catalog: 4FGL J1625.7-2527 PKS 1622-253\n",
      "Not in catalog: 4FGL J1802.6-3940 PMN J1802-3940\n",
      "Not in catalog: 4FGL J1833.6-2103 PKS 1830-211\n",
      "Not in catalog: 4FGL J1917.7-1921 1H 1914-194\n",
      "Not in catalog: 4FGL J1733.0-1305 PKS 1730-13\n",
      "Not in catalog: 4FGL J1911.2-2006 PKS B1908-201\n",
      "Not in catalog: 4FGL J1623.7-2315c \n",
      "Not in catalog: 4FGL J1750.0-3849 \n",
      "Not in catalog: 4FGL J1816.4-2727 \n",
      "Not in catalog: 4FGL J1815.2-2715 NVSS J181510-271304\n",
      "Not in catalog: 4FGL J1913.4-3629 PMN J1913-3630\n",
      "Not in catalog: 4FGL J1752.8-4449 \n",
      "Not in catalog: 4FGL J1754.3-4443 \n"
     ]
    }
   ],
   "source": [
    "def get_distance(assocName):\n",
    "    dists = all_distances[\"Dist\"][all_distances[\"Source_Name\"] == assocName[4:]]\n",
    "    if len(dists) == 1:\n",
    "        return float(dists)\n",
    "    return None\n",
    "    \n",
    "for name in fermi_data[\"Source_Name\"]:\n",
    "    for row in fgl_data_dr1:\n",
    "        if row[\"Source_Name\"] == name:\n",
    "            dist = get_distance(row[\"ASSOC1\"])\n",
    "            if dist is not None:\n",
    "                pass\n",
    "                #print(dist, row[\"Source_Name\"], row[\"ASSOC1\"])\n",
    "            else:\n",
    "                #if \"PSR\" in row[\"ASSOC1\"]:\n",
    "                print(\"Not in catalog:\", row[\"Source_Name\"], row[\"ASSOC1\"])"
   ]
  },
  {
   "cell_type": "code",
   "execution_count": 11,
   "metadata": {},
   "outputs": [],
   "source": [
    "for row in fgl_data_dr1:\n",
    "    dist = get_distance(row[\"ASSOC1\"])\n",
    "    if dist is not None:\n",
    "        pass\n",
    "        #print(dist, row[\"Source_Name\"], row[\"ASSOC1\"])\n",
    "    else:\n",
    "        if \"PSR\" in row[\"ASSOC1\"]:\n",
    "            print(\"Not in catalog:\", row[\"Source_Name\"], row[\"ASSOC1\"])"
   ]
  },
  {
   "cell_type": "code",
   "execution_count": 18,
   "metadata": {
    "scrolled": false
   },
   "outputs": [
    {
     "name": "stdout",
     "output_type": "stream",
     "text": [
      "Track name had class1 PSR, class2 , assoc1 PSR J1823-3021A, assoc2 , l 2.787945032119751, b -7.887239933013916, dist 1.3404331389517345, flag 0\n",
      "{'bll': 8, 'Distance': 15, 'bcu': 17, 'fsrq': 7, 'FSRQ': 3, 'SFR': 1, 'glc': 8, 'spp': 2}\n",
      "Wanted: {'bll': 8, 'Distance': 16, 'bcu': 17, 'FSRQ': 10, 'SFR': 1, 'glc': 8, 'spp': 2}\n",
      "0.3 deg cutoff: 42 0.5x deg cutoff: 6\n",
      "Number of pulsars with correct distance 1\n",
      "Number of excluded sources 61\n",
      "Total fraction of GCE in resolved sources: 0.1768782535608112\n"
     ]
    }
   ],
   "source": [
    "fluxes = []\n",
    "fluxes_unc = []\n",
    "resolved_names = []\n",
    "lats = []\n",
    "lons = []\n",
    "\n",
    "resolved_names_extra = []\n",
    "fluxes_extra = []\n",
    "lats_extra = []\n",
    "lons_extra = []\n",
    "accepted_distances = []\n",
    "accepted_distances_extra = []\n",
    "\n",
    "GCE_RESTRICT = 6.144735779535103e-10\n",
    "MAX_RESTRICT = 10\n",
    "MIN_RESTRICT = 1\n",
    "DISTANCE_CUT = 2\n",
    "\n",
    "TRACK_NAME = \"4FGL J1823.5-3020\"\n",
    "\n",
    "exclusion_reasons = {}\n",
    "\n",
    "acceptable_dist = 0\n",
    "\n",
    "def power_law(x, norm, alpha):\n",
    "    return norm * x**2 * x**-alpha\n",
    "\n",
    "\n",
    "for row in fgl_data_dr1:    \n",
    "    if FILTER_BY_FERMILAB:\n",
    "        if row[\"Source_Name\"] not in list(fermi_data[\"Source_Name\"]) \\\n",
    "            and row[\"Source_Name\"] not in list(fermi_data_extra[\"Source_Name\"]):\n",
    "            if row[\"Source_Name\"] == TRACK_NAME:\n",
    "                print(\"Name excluded because it wasn't in Fermilab's list\")\n",
    "            continue\n",
    "        \n",
    "    if row[\"Source_Name\"] == TRACK_NAME:\n",
    "        dist = get_distance(row[\"ASSOC1\"])\n",
    "        if dist is None:\n",
    "            dist = get_distance(row[\"ASSOC1\"])\n",
    "        print(\"Track name had class1 {}, class2 {}, assoc1 {}, assoc2 {}, l {}, b {}, dist {}, flag {}\".format(\n",
    "            row[\"CLASS1\"], row[\"CLASS2\"], row[\"ASSOC1\"], row[\"ASSOC2\"], row[\"GLON\"], row[\"GLAT\"], dist, row[\"Flags\"]))\n",
    "    \n",
    "    if not row[CLASS_NAME] in ['', 'psr', 'PSR', 'unk'] and row[\"Source_Name\"] not in MANUALLY_INCLUDE:#'spp', 'PWN']:\n",
    "        if row[CLASS_NAME] in exclusion_reasons:\n",
    "            exclusion_reasons[row[CLASS_NAME]] += 1\n",
    "        else: \n",
    "            exclusion_reasons[row[CLASS_NAME]] = 1\n",
    "\n",
    "        if row[\"Source_Name\"] == TRACK_NAME:\n",
    "            print(\"Name excluded because of class name {}\".format(row[CLASS_NAME]))\n",
    "        continue\n",
    "        \n",
    "    if not row[\"CLASS2\"] in ['', 'psr', 'PSR', 'unk'] and row[\"Source_Name\"] not in MANUALLY_INCLUDE:#'spp', 'PWN']:\n",
    "        if row[\"CLASS2\"] in exclusion_reasons:\n",
    "            exclusion_reasons[row[\"CLASS2\"]] += 1\n",
    "        else: \n",
    "            exclusion_reasons[row[\"CLASS2\"]] = 1\n",
    "\n",
    "        if row[\"Source_Name\"] == TRACK_NAME:\n",
    "            print(\"Name excluded because of class name {}\".format(row[CLASS_NAME]))\n",
    "        continue\n",
    "    \n",
    "    dist = get_distance(row[\"ASSOC1\"])\n",
    "    if dist is None:\n",
    "        dist = get_distance(row[\"ASSOC2\"])\n",
    "    if dist is not None:\n",
    "        if  dist > DISTANCE_CUT:\n",
    "            #print(\"Excluded PSR with distance {} and flux {}\".format(dist, row[\"Energy_Flux100\"]))\n",
    "            if \"Distance\" in exclusion_reasons:\n",
    "                exclusion_reasons[\"Distance\"] += 1\n",
    "            else: \n",
    "                exclusion_reasons[\"Distance\"] = 1\n",
    "\n",
    "            if row[\"Source_Name\"] == TRACK_NAME:\n",
    "                print(\"Name excluded because of distance\")\n",
    "            continue\n",
    "        else:\n",
    "            acceptable_dist += 1\n",
    "        \n",
    "    if FILTER_BY_FERMILAB and row[\"Source_Name\"] in list(fermi_data_extra[\"Source_Name\"]):\n",
    "        if row[\"Source_Name\"] in resolved_names or row[\"Source_Name\"] in resolved_names_extra:\n",
    "            print(\"Double count detected\")\n",
    "        resolved_names_extra.append(row[\"Source_Name\"])\n",
    "        fluxes_extra.append(row[\"Energy_Flux100\"])\n",
    "        lats_extra.append(row[\"GLAT\"])\n",
    "        lons_extra.append(row[\"GLON\"] if row[\"GLON\"] < 180 else row[\"GLON\"] - 360)\n",
    "        \n",
    "        dist = get_distance(row[\"ASSOC1\"])\n",
    "        if dist is not None:\n",
    "            accepted_distances_extra.append(dist)\n",
    "        dist = get_distance(row[\"ASSOC2\"])\n",
    "        if dist is not None:\n",
    "            accepted_distances_extra.append(dist)\n",
    "    if FILTER_BY_FERMILAB and row[\"Source_Name\"] in list(fermi_data[\"Source_Name\"]):\n",
    "        if row[\"ASSOC1\"] != \"\":\n",
    "            pass#print(\"Associated with pulsar \" + row[\"ASSOC1\"][4:])\n",
    "        if row[\"Source_Name\"] in resolved_names or row[\"Source_Name\"] in resolved_names_extra:\n",
    "            print(\"Double count detected\")\n",
    "        resolved_names.append(row[\"Source_Name\"])\n",
    "        fluxes.append(row[\"Energy_Flux100\"])\n",
    "        fluxes_unc.append(row[\"Unc_Energy_Flux100\"])\n",
    "        lats.append(row[\"GLAT\"])\n",
    "        lons.append(row[\"GLON\"] if row[\"GLON\"] < 180 else row[\"GLON\"] - 360)\n",
    "        \n",
    "        dist = get_distance(row[\"ASSOC1\"])\n",
    "        if dist is not None:\n",
    "            accepted_distances.append(dist)\n",
    "        dist = get_distance(row[\"ASSOC2\"])\n",
    "        if dist is not None:\n",
    "            accepted_distances.append(dist)\n",
    "        \n",
    "        index = row[\"PL_Index\"]\n",
    "        unnormalized_lum = 100 ** (2 - index) / (2 - index) - 0.1 ** (2 - index) / (2 - index)\n",
    "        lum_scale = row[\"Energy_Flux100\"] / ERGS_PER_GEV / unnormalized_lum\n",
    "        \n",
    "        \n",
    "    # https://journals.aps.org/prl/supplemental/10.1103/PhysRevLett.124.231103/sm.pdf\n",
    "    \n",
    "fluxes = np.asarray(fluxes)\n",
    "fluxes_extra = np.asarray(fluxes_extra)\n",
    "fluxes_unc = np.asarray(fluxes_unc)\n",
    "\n",
    "print(exclusion_reasons)\n",
    "wanted_exclusion_reasons = {\"bll\": 8, \"Distance\": 16, \"bcu\": 17, \"FSRQ\": 10, \"SFR\": 1, \"glc\": 8, \"spp\": 2}\n",
    "print(\"Wanted:\", wanted_exclusion_reasons)\n",
    "\n",
    "print(\"0.3 deg cutoff:\", len(fluxes), \"0.5x deg cutoff:\", len(fluxes_extra))\n",
    "\n",
    "print(\"Number of pulsars with correct distance\", acceptable_dist)\n",
    "print(\"Number of excluded sources\", sum(exclusion_reasons.values()))\n",
    "\n",
    "NUM_RESOLVED = len(fluxes) + len(fluxes_extra)\n",
    "\n",
    "print(\"Total fraction of GCE in resolved sources:\", np.sum(list(fluxes) + list(fluxes_extra)) / F_GCE)\n",
    "\n",
    "resolved_names = [n[5:] for n in resolved_names]\n",
    "resolved_names_extra = [n[5:] for n in resolved_names_extra]"
   ]
  },
  {
   "cell_type": "code",
   "execution_count": 19,
   "metadata": {},
   "outputs": [
    {
     "name": "stdout",
     "output_type": "stream",
     "text": [
      "265 109\n"
     ]
    }
   ],
   "source": [
    "fluxes_4fgl_dr2 = []\n",
    "fluxes_4fgl_dr2_unflagged = []\n",
    "\n",
    "for row in fgl_data_dr2:    \n",
    "    if not row[CLASS_NAME] in ['', 'psr', 'PSR', 'unk'] and row[\"Source_Name\"] not in MANUALLY_INCLUDE:#'spp', 'PWN']:\n",
    "        continue\n",
    "        \n",
    "    if not row[\"CLASS2\"] in ['', 'psr', 'PSR', 'unk'] and row[\"Source_Name\"] not in MANUALLY_INCLUDE:#'spp', 'PWN']:\n",
    "        continue\n",
    "    \n",
    "    dist = get_distance(row[\"ASSOC1\"])\n",
    "    if dist is None:\n",
    "        dist = get_distance(row[\"ASSOC2\"])\n",
    "    if dist is not None:\n",
    "        if  dist > DISTANCE_CUT:\n",
    "            continue\n",
    "            \n",
    "    # At this point, the 4FGL sources are all cut.\n",
    "    fluxes_4fgl_dr2.append(row[\"Energy_Flux100\"])\n",
    "    if row[\"Flags\"] == 0:\n",
    "        fluxes_4fgl_dr2_unflagged.append(row[\"Energy_Flux100\"])\n",
    "        \n",
    "print(len(fluxes_4fgl_dr2), len(fluxes_4fgl_dr2_unflagged))"
   ]
  },
  {
   "cell_type": "code",
   "execution_count": 20,
   "metadata": {},
   "outputs": [
    {
     "name": "stdout",
     "output_type": "stream",
     "text": [
      "Total resolved flux 2.676495574650828e-10\n",
      "Num resolved 42\n",
      "Fraction of resolved flux to unresolved: 0.14918203000932767\n",
      "['J1655.9-3940', 'J1706.8-4540', 'J1747.9-3224', 'J1810.8-3347', 'J1813.2-1128', 'J1822.6-2502']\n",
      "Flux percentiles: [2.17278417e-11 7.63965323e-12 5.29470716e-12 4.19689760e-12\n",
      " 1.95904642e-12]\n"
     ]
    }
   ],
   "source": [
    "print(\"Total resolved flux\", sum(fluxes))\n",
    "print(\"Num resolved\", len(fluxes))\n",
    "print(\"Fraction of resolved flux to unresolved:\", sum(fluxes) / F_GCE)\n",
    "print(resolved_names_extra)\n",
    "print(\"Flux percentiles: {}\".format(np.percentile(fluxes, [100, 75, 50, 25, 0])))"
   ]
  },
  {
   "cell_type": "code",
   "execution_count": 21,
   "metadata": {},
   "outputs": [
    {
     "name": "stdout",
     "output_type": "stream",
     "text": [
      "R_r from the 47 sources\n",
      "0.14918202106552989\n"
     ]
    },
    {
     "data": {
      "image/png": "[encoded data removed]",
      "text/plain": [
       "<Figure size 468x288 with 1 Axes>"
      ]
     },
     "metadata": {
      "needs_background": "light"
     },
     "output_type": "display_data"
    }
   ],
   "source": [
    "print(\"R_r from the 47 sources\")\n",
    "tot_flux_ratios = [sum(fluxes / F_GCE)]\n",
    "for i in range(1, len(fluxes)-1):\n",
    "    flux = np.sum(fluxes[fluxes.argsort()[:-i]])\n",
    "    tot_flux_ratios.append(flux / F_GCE)\n",
    "xs = np.arange(len(tot_flux_ratios))\n",
    "plt.scatter(xs, tot_flux_ratios)\n",
    "plt.xlabel(\"Number of bright sources excluded\")\n",
    "plt.ylabel(\"$R_\\\\textrm{r}$\")\n",
    "print(np.sum(fluxes) / F_GCE)"
   ]
  },
  {
   "cell_type": "code",
   "execution_count": 23,
   "metadata": {},
   "outputs": [
    {
     "name": "stdout",
     "output_type": "stream",
     "text": [
      "9.795232\n"
     ]
    },
    {
     "data": {
      "image/png": "[encoded data removed]",
      "text/plain": [
       "<Figure size 468x468 with 1 Axes>"
      ]
     },
     "metadata": {
      "needs_background": "light"
     },
     "output_type": "display_data"
    }
   ],
   "source": [
    "sizes = fluxes*5e12\n",
    "sizes_extra = fluxes_extra*2e12\n",
    "print(np.min(sizes))\n",
    "\n",
    "plt.figure(figsize=(6.5, 6.5))\n",
    "\n",
    "plt.fill_between([-21, 21], [2, 2], [-2, -2], color='k', alpha=0.3, label=\"Galactic disk cut\")\n",
    "plt.xlim(-20, 20)\n",
    "plt.ylim(-20, 20)\n",
    "plt.scatter(np.asarray(lons), lats, s=sizes)\n",
    "plt.scatter(np.asarray(lons_extra), lats_extra, s=sizes_extra)\n",
    "plt.scatter([], [], label=\"0.3 deg cut\", color=\"C0\")\n",
    "plt.scatter([], [], label=\"0.55 deg cut\", color=\"C1\")\n",
    "plt.xlabel(\"Galactic Longitude (deg)\")\n",
    "plt.ylabel(\"Galactic Latitude (deg)\")\n",
    "plt.legend(loc='lower right', prop={'size': 14})\n",
    "plt.gca().invert_xaxis()\n",
    "plt.savefig(\"all-sources.pdf\")"
   ]
  },
  {
   "cell_type": "markdown",
   "metadata": {},
   "source": [
    "\n",
    "\n",
    "## Compare to Fermilab data"
   ]
  },
  {
   "cell_type": "code",
   "execution_count": 13,
   "metadata": {},
   "outputs": [
    {
     "name": "stdout",
     "output_type": "stream",
     "text": [
      "47\n",
      "42\n",
      "['J1750.0-3849', 'J1823.5-3020']\n",
      "['J1555.7-2908']\n"
     ]
    }
   ],
   "source": [
    "real_names = []\n",
    "\n",
    "f = open(\"data/gll_psc_v20_47_Final_sources_Spectral_Properties.txt\", 'r')\n",
    "for line in f.readlines():\n",
    "    if line == '': continue\n",
    "    if line[0] == \"#\": continue\n",
    "    real_names.append(line.split(' ')[0][5:])\n",
    "    \n",
    "print(len(real_names))\n",
    "print(len(resolved_names))\n",
    "\n",
    "in_mine = []\n",
    "for n in resolved_names + resolved_names_extra:\n",
    "    if n not in real_names:\n",
    "        in_mine.append(n)\n",
    "        \n",
    "print(in_mine)\n",
    "\n",
    "in_theirs = []\n",
    "for n in real_names:\n",
    "    if n not in resolved_names + resolved_names_extra:\n",
    "        in_theirs.append(n)\n",
    "        \n",
    "print(in_theirs)"
   ]
  },
  {
   "cell_type": "markdown",
   "metadata": {},
   "source": [
    "\n",
    "## N_BINS\n",
    "\n",
    "The bin width has been chosen such that the ratio between bin width and bin center is twice the median ratio of uncertainty in the total flux to total flux of the 47 resolved point sources as listed in the 4FGL catalog."
   ]
  },
  {
   "cell_type": "code",
   "execution_count": 14,
   "metadata": {},
   "outputs": [
    {
     "name": "stdout",
     "output_type": "stream",
     "text": [
      "0.3010222911834717 [0.30102229 0.30102229 0.30102229 0.30102229 0.30102229 0.30102229\n",
      " 0.30102229]\n",
      "7\n",
      "1.9590460265411667e-12 1.637482454933416e-11\n"
     ]
    }
   ],
   "source": [
    "want_ratio = 2 * np.median(fluxes_unc / fluxes)\n",
    "b = 2 / np.log(10) * np.arctanh(want_ratio / 2)\n",
    "bins = 10**np.arange(np.log10(np.min(fluxes)), np.log10(np.max(fluxes)), b)\n",
    "N_BINS = len(bins) - 1\n",
    "bin_centers = np.array([(bins[i+1] + bins[i])/2 for i in range(N_BINS)])\n",
    "print(want_ratio, np.array([bins[i+1] - bins[i] for i in range(N_BINS)]) / bin_centers)\n",
    "print(N_BINS)\n",
    "print(bins[0], bins[-1])"
   ]
  },
  {
   "cell_type": "markdown",
   "metadata": {},
   "source": [
    "## Generate power law"
   ]
  },
  {
   "cell_type": "code",
   "execution_count": 15,
   "metadata": {},
   "outputs": [],
   "source": [
    "def fluxToLum(flux):\n",
    "    return flux / FLUX_TO_LUM_RATIO\n",
    "\n",
    "def lumToFlux(lum):\n",
    "    return lum * FLUX_TO_LUM_RATIO\n",
    "\n",
    "def Gamma(s, x):\n",
    "    if(s < 0):\n",
    "        return (Gamma(s+1, x) - x**s * np.exp(-x))/s\n",
    "    return gamma(s) * (1-gammainc(s, x))\n",
    "\n",
    "def getNumPulsars(lMin, lMax, b, c):\n",
    "    lumExp = lMax**(2-ALPHA_L) * Gamma(2-ALPHA_L, lMin / lMax)\n",
    "    Aexp = L_EXCESS / lumExp\n",
    "    \n",
    "    assert(b < c)\n",
    "\n",
    "    if b > L_THRESH:\n",
    "        return Aexp * (Gamma(1-ALPHA_L, b / lMax) - Gamma(1-ALPHA_L, c / lMax)) * lMax**(1 - ALPHA_L)\n",
    "    elif c > L_THRESH:\n",
    "        return Aexp * (Gamma(1-ALPHA_L, L_THRESH / lMax) - Gamma(1-ALPHA_L, c / lMax)) * lMax**(1 - ALPHA_L)\n",
    "    else:\n",
    "        return 0"
   ]
  },
  {
   "cell_type": "code",
   "execution_count": 16,
   "metadata": {},
   "outputs": [
    {
     "name": "stdout",
     "output_type": "stream",
     "text": [
      "57.36792490969718\n"
     ]
    }
   ],
   "source": [
    "power_law_counts = [getNumPulsars(L_MIN, L_MAX, bins[i] / FLUX_TO_LUM_RATIO, bins[i+1] / FLUX_TO_LUM_RATIO)\n",
    "                   for i in range(len(bins) - 1)]\n",
    "\n",
    "print(np.sum(power_law_counts))"
   ]
  },
  {
   "cell_type": "markdown",
   "metadata": {},
   "source": [
    "# Predict histogram for each luminosity function"
   ]
  },
  {
   "cell_type": "code",
   "execution_count": 17,
   "metadata": {},
   "outputs": [
    {
     "name": "stdout",
     "output_type": "stream",
     "text": [
      "\n",
      "Wavelet 1, Chisq: 221.52386269304216, p: 0.0\n",
      "Wavelet 2, Chisq: 226.37137591955695, p: 0.0\n",
      "GLC, Chisq: 231.73730009531522, p: 0.0\n",
      "GLC, Chisq: 205.7723581770801, p: 0.0\n",
      "AIC, Chisq: 208.76485283641216, p: 0.0\n",
      "NPTF, Chisq: 208.2179655303126, p: 0.0\n",
      "Disk, Chisq: 214.27356818853175, p: 0.0\n"
     ]
    },
    {
     "data": {
      "image/png": "[encoded data removed]",
      "text/plain": [
       "<Figure size 432x432 with 1 Axes>"
      ]
     },
     "metadata": {
      "needs_background": "light"
     },
     "output_type": "display_data"
    }
   ],
   "source": [
    "plt.figure(figsize=(6, 6))\n",
    "\n",
    "def get_point(xs, ys, point):\n",
    "    if xs[0] > point or point > xs[-1]:\n",
    "        return np.nan\n",
    "    for i, x in enumerate(xs):\n",
    "        if xs[i+1] > point:\n",
    "            frac = (point - x) / (xs[i+1] - x)\n",
    "            return frac * (ys[i+1] - ys[i]) + ys[i]\n",
    "\n",
    "def display(data_file, label, color, marker, style, epsilon=1, normalize=True):\n",
    "    f = open(data_file)\n",
    "    header = f.readline()\n",
    "    predicted_counts = np.asarray([float(i) for i in f.readline().split(\",\")[:-1]])\n",
    "    predicted_fluxes = np.asarray([float(i) for i in f.readline().split(\",\")[:-1]])\n",
    "    if normalize:\n",
    "        predicted_counts *= NUM_RESOLVED / sum(predicted_counts)\n",
    "    f.close()\n",
    "    \n",
    "    predicted_counts *= len(predicted_counts) / N_BINS\n",
    "    plt.errorbar(predicted_fluxes*epsilon, predicted_counts, yerr=np.sqrt(predicted_counts), markeredgecolor='black',\n",
    "                 label=label, c=color, marker=marker, capsize=5, linestyle='none', markersize=6)\n",
    "    #plt.plot(predicted_fluxes*epsilon, predicted_counts, c=color, linestyle=style, alpha=0.3)\n",
    "    \n",
    "    plt.xlabel(\"Flux received (erg / cm$^2$ / s)\")\n",
    "    plt.ylabel(\"Point source count\")\n",
    "    plt.xscale('log')\n",
    "    if not normalize:\n",
    "        print(f\"{label} has {np.sum(predicted_counts)} pulsars\")\n",
    "    plt.legend()\n",
    "    \n",
    "def display_fit_vals(flux_to_use, data_file, name):\n",
    "    f = open(data_file)\n",
    "    header = f.readline()\n",
    "    predicted_counts = np.asarray([float(i) for i in f.readline().split(\",\")[:-1]])\n",
    "    predicted_fluxes = np.asarray([float(i) for i in f.readline().split(\",\")[:-1]])\n",
    "    predicted_counts *= len(flux_to_use) / sum(predicted_counts)\n",
    "    f.close()\n",
    "    \n",
    "    predicted_counts *= len(flux_to_use) / N_BINS\n",
    "\n",
    "    points, _ = np.histogram(flux_to_use, bins=bins)\n",
    "    below_cut = 0\n",
    "    above_cut = 0\n",
    "    if above_cut > 0:\n",
    "        observed = points[below_cut:-above_cut]\n",
    "    else:\n",
    "        observed = points[below_cut:]\n",
    "\n",
    "    expected = [get_point(predicted_fluxes, predicted_counts, bc) for bc in bin_centers]\n",
    "    chisq = np.nansum((observed - expected)**2 / expected)\n",
    "    p = 1 - stats.chi2.cdf(chisq, len(observed) - 1)\n",
    "    print(\"{}, Chisq: {}, p: {}\".format(name, chisq, p))\n",
    "    \n",
    "    \n",
    "    \n",
    "plt.errorbar(bin_centers*0.9, power_law_counts / sum(power_law_counts) * NUM_RESOLVED, color=\"lightblue\",\n",
    "             label=\"Wavelet 1, simplified\", linestyle='none', marker='o', markeredgecolor='black',\n",
    "             capsize=5, yerr=np.sqrt(power_law_counts / sum(power_law_counts) * NUM_RESOLVED))\n",
    "display(\"../luminosity-models-position/real-data/power-law/flux-hist-DR2.txt\", \"Wavelet 1\", 'aquamarine', '^', 'solid', 0.925)\n",
    "display(\"../luminosity-models-position/real-data/wavelet-fit/flux-hist-DR2.txt\", \"Wavelet 2\", 'darkgreen', 'v', 'dashed', 0.95)\n",
    "display(\"../luminosity-models-position/real-data/log-normal/flux-hist-DR2.txt\", \"GLC\", 'C1', 'o', 'solid', 0.975)\n",
    "display(\"../luminosity-models-position/real-data/ploeg/flux-hist-DR2.txt\", \"GCE\", 'fuchsia', 's', 'dashed')\n",
    "display(\"../luminosity-models-position/real-data/gautam/flux-hist-DR2.txt\", \"AIC\", 'red', '*', 'dashdot', 1.025)\n",
    "display(\"../luminosity-models-position/real-data/nptf/flux-hist-DR2.txt\", \"NPTF\", 'black', 'd', 'solid', 1.05)\n",
    "display(\"../luminosity-models-position/real-data/bartels18/flux-hist-DR2.txt\", \"Disk\", 'gray', '>', 'dashed', 1.075)\n",
    "print()\n",
    "\n",
    "ftu = list(fluxes) + list(fluxes_extra) # flux to use\n",
    "\n",
    "display_fit_vals(ftu, \"../luminosity-models-position/real-data/power-law/flux-hist-DR2.txt\", \"Wavelet 1\")\n",
    "display_fit_vals(ftu, \"../luminosity-models-position/real-data/wavelet-fit/flux-hist-DR2.txt\", \"Wavelet 2\")\n",
    "display_fit_vals(ftu, \"../luminosity-models-position/real-data/log-normal/flux-hist-DR2.txt\", \"GLC\")\n",
    "display_fit_vals(ftu, \"../luminosity-models-position/real-data/ploeg/flux-hist-DR2.txt\", \"GLC\")\n",
    "display_fit_vals(ftu, \"../luminosity-models-position/real-data/gautam/flux-hist-DR2.txt\", \"AIC\")\n",
    "display_fit_vals(ftu, \"../luminosity-models-position/real-data/nptf/flux-hist-DR2.txt\", \"NPTF\")\n",
    "display_fit_vals(ftu, \"../luminosity-models-position/real-data/bartels18/flux-hist-DR2.txt\", \"Disk\")\n",
    "\n",
    "\n",
    "\n",
    "plt.hist(fluxes, bins=bins, color=(0.8, 0.8, 0.8), label=\"Wavelets 0.3$^\\circ$ cut\")\n",
    "plt.hist(fluxes, bins=bins, color='black', histtype='step')\n",
    "counts, _, _ = plt.hist(list(fluxes) + list(fluxes_extra), bins=bins, color='black', histtype='step', label=\"Wavelets 0.55$^\\circ$ cut\")\n",
    "plt.legend(ncol=2);\n",
    "plt.tight_layout()\n",
    "plt.ylim(0, 25)\n",
    "plt.savefig(\"hist-fix-count.pdf\")"
   ]
  },
  {
   "cell_type": "code",
   "execution_count": 19,
   "metadata": {},
   "outputs": [
    {
     "name": "stdout",
     "output_type": "stream",
     "text": [
      "Wavelet 1 has 28.948180000000004 pulsars\n",
      "Wavelet 2 has 92.33748999999999 pulsars\n",
      "GLC has 107.39386999999999 pulsars\n",
      "GCE has 18.913199 pulsars\n",
      "AIC has 11.305967 pulsars\n",
      "NPTF has 109.42090499999999 pulsars\n",
      "Disk has 27.81882 pulsars\n"
     ]
    },
    {
     "data": {
      "image/png": "[encoded data removed]",
      "text/plain": [
       "<Figure size 432x432 with 1 Axes>"
      ]
     },
     "metadata": {
      "needs_background": "light"
     },
     "output_type": "display_data"
    }
   ],
   "source": [
    "plt.figure(figsize=(6, 6))\n",
    "plt.errorbar(bin_centers*0.9, power_law_counts, color=\"lightblue\", label=\"Wavelet 1, simplified\", linestyle='none',\n",
    "             marker='o', markeredgecolor='black', capsize=5, yerr=np.sqrt(power_law_counts))\n",
    "\n",
    "display(\"../luminosity-models-position/real-data/power-law/flux-hist-DR2.txt\", \"Wavelet 1\", 'aquamarine', '^', 'solid', 0.925, False)\n",
    "display(\"../luminosity-models-position/real-data/wavelet-fit/flux-hist-DR2.txt\", \"Wavelet 2\", 'darkgreen', 'v', 'solid', 0.95, False)\n",
    "display(\"../luminosity-models-position/real-data/log-normal/flux-hist-DR2.txt\", \"GLC\", 'C1', 'o', 'solid', 0.975, False)\n",
    "display(\"../luminosity-models-position/real-data/ploeg/flux-hist-DR2.txt\", \"GCE\", 'fuchsia', 's', 'dashed', 1.0, False)\n",
    "display(\"../luminosity-models-position/real-data/gautam/flux-hist-DR2.txt\", \"AIC\", 'red', '*', 'dashdot', 1.025, False)\n",
    "display(\"../luminosity-models-position/real-data/nptf/flux-hist-DR2.txt\", \"NPTF\", 'black', 'd', 'solid', 1.05, False)\n",
    "display(\"../luminosity-models-position/real-data/bartels18/flux-hist-DR2.txt\", \"Disk\", 'gray', '>', 'dashed', 1.075, False)\n",
    "\n",
    "\n",
    "plt.hist(fluxes, bins=bins, color=(0.8, 0.8, 0.8), label=\"Wavelets 0.3$^\\circ$ cut\")\n",
    "plt.hist(fluxes, bins=bins, color='black', histtype='step')\n",
    "plt.hist(list(fluxes) + list(fluxes_extra), bins=bins, color='black', histtype='step', label=\"Wavelets 0.55$^\\circ$ cut\")\n",
    "plt.hist(fluxes_4fgl_dr2, bins=bins, fill=False, histtype='step', linestyle='dashed', edgecolor='black',\n",
    "         label='DR2 PSs', linewidth=2)\n",
    "plt.hist(fluxes_4fgl_dr2_unflagged, bins=bins, fill=False, histtype='step', linestyle='dotted', edgecolor='black',\n",
    "         label='DR2 PSs unflagged')\n",
    "plt.legend(ncol=3, loc='upper center');\n",
    "plt.tight_layout()\n",
    "plt.ylim(0, 75)\n",
    "plt.savefig(\"hist-fix-flux.pdf\")"
   ]
  },
  {
   "cell_type": "markdown",
   "metadata": {},
   "source": [
    "## Get p values assuming normal distro"
   ]
  },
  {
   "cell_type": "code",
   "execution_count": 44,
   "metadata": {},
   "outputs": [
    {
     "name": "stdout",
     "output_type": "stream",
     "text": [
      "Fix flux:\n",
      "Wavelet 1. Chisq: 20.44245806110204. p-value: 0.0023092074446834365, log10(p): -2.7210471223405057\n",
      "Wavelet 2. Chisq: 24.227580210738367. p-value: 0.0004742336158051197, log10(p): -3.395422104543612\n",
      "GLC. Chisq: 35.60651167055236. p-value: 3.2870548444252634e-06, log10(p): -5.5318868993205115\n",
      "GCE. Chisq: 90.46955498994014. p-value: 0.0, log10(p): -16.635299335031107\n",
      "AIC. Chisq: 172.2198880530259. p-value: 0.0, log10(p): -33.82799690951735\n",
      "NPTF. Chisq: 75.70241209367155. p-value: 2.7533531010703882e-14, log10(p): -13.583440471365453\n",
      "Disk. Chisq: 27.949705133192737. p-value: 9.603424808213301e-05, log10(p): -4.0795368811163515\n",
      "\n",
      "Fix number:\n",
      "Wavelet 1. Chisq: 5.560494797559017. p-value: 0.4741754514409958, log10(p): -0.620309213095287\n",
      "Wavelet 2. Chisq: 3.804707206940658. p-value: 0.7030849088862716, log10(p): -0.5686291775012111\n",
      "GLC. Chisq: 3.6979489984142306. p-value: 0.7174739470010882, log10(p): -0.5701675749037529\n",
      "GCE. Chisq: 19.233339719845418. p-value: 0.003787180985722838, log10(p): -2.5114472361508557\n",
      "AIC. Chisq: 14.042674568044081. p-value: 0.029163081044614292, log10(p): -1.6575183622114138\n",
      "NPTF. Chisq: 91.41785543653044. p-value: 0.0, log10(p): -16.83216301075598\n",
      "Disk. Chisq: 8.554378124186762. p-value: 0.20023362569652736, log10(p): -0.8962727082945361\n",
      "Simplified. Chisq: 39.28331146235627. p-value: 6.298171112417705e-07, log10(p): -6.2449365057912525\n"
     ]
    }
   ],
   "source": [
    "def get_p_exp(x, dof):\n",
    "    return (dof/2 - 1) * np.log10(x/2) + -x/2/np.log(10) - np.log10(gamma(dof/2))\n",
    "    \n",
    "def show_chisq(data_file, label, normalize=True):\n",
    "    f = open(data_file)\n",
    "    header = f.readline()\n",
    "    predicted_counts = np.asarray([float(i) for i in f.readline().split(\",\")[:-1]])\n",
    "    predicted_fluxes = np.asarray([float(i) for i in f.readline().split(\",\")[:-1]])\n",
    "    if normalize:\n",
    "        predicted_counts *= NUM_RESOLVED / sum(predicted_counts)\n",
    "    f.close()\n",
    "    \n",
    "    assert len(predicted_counts) == N_BINS\n",
    "    \n",
    "    counts, _ = np.histogram(list(fluxes) + list(fluxes_extra), bins=bins)\n",
    "    chisq = np.sum((predicted_counts - counts) ** 2 / predicted_counts)\n",
    "    dof = N_BINS - 1\n",
    "    pval = 1 - stats.chi2.cdf(chisq, dof)\n",
    "    p_exp = get_p_exp(chisq, dof)\n",
    "    print(\"{}. Chisq: {}. p-value: {}, log10(p): {}\".format(label, chisq, pval, p_exp))\n",
    "    \n",
    "    \n",
    "def fermilab_chisq():\n",
    "    counts, _ = np.histogram(list(fluxes) + list(fluxes_extra), bins=bins)\n",
    "    chisq = np.sum((power_law_counts - counts) ** 2 / power_law_counts)\n",
    "    dof = N_BINS - 1\n",
    "    pval = 1 - stats.chi2.cdf(chisq, N_BINS - 1)\n",
    "    p_exp = get_p_exp(chisq, dof)\n",
    "    print(\"Simplified. Chisq: {}. p-value: {}, log10(p): {}\".format(chisq, pval, p_exp))\n",
    "    \n",
    "print(\"Fix flux:\")\n",
    "show_chisq(\"../luminosity-models-position/real-data/power-law/flux-hist-DR2.txt\", \"Wavelet 1\", False)\n",
    "show_chisq(\"../luminosity-models-position/real-data/wavelet-fit/flux-hist-DR2.txt\", \"Wavelet 2\", False)\n",
    "show_chisq(\"../luminosity-models-position/real-data/log-normal/flux-hist-DR2.txt\", \"GLC\", False)\n",
    "show_chisq(\"../luminosity-models-position/real-data/ploeg/flux-hist-DR2.txt\", \"GCE\", False)\n",
    "show_chisq(\"../luminosity-models-position/real-data/gautam/flux-hist-DR2.txt\", \"AIC\", False)\n",
    "show_chisq(\"../luminosity-models-position/real-data/nptf/flux-hist-DR2.txt\", \"NPTF\", False)\n",
    "show_chisq(\"../luminosity-models-position/real-data/bartels18/flux-hist-DR2.txt\", \"Disk\", False)\n",
    "\n",
    "\n",
    "print(\"\\nFix number:\")\n",
    "show_chisq(\"../luminosity-models-position/real-data/power-law/flux-hist-DR2.txt\", \"Wavelet 1\", True)\n",
    "show_chisq(\"../luminosity-models-position/real-data/wavelet-fit/flux-hist-DR2.txt\", \"Wavelet 2\")\n",
    "show_chisq(\"../luminosity-models-position/real-data/log-normal/flux-hist-DR2.txt\", \"GLC\", True)\n",
    "show_chisq(\"../luminosity-models-position/real-data/ploeg/flux-hist-DR2.txt\", \"GCE\", True)\n",
    "show_chisq(\"../luminosity-models-position/real-data/gautam/flux-hist-DR2.txt\", \"AIC\", True)\n",
    "show_chisq(\"../luminosity-models-position/real-data/nptf/flux-hist-DR2.txt\", \"NPTF\", True)\n",
    "show_chisq(\"../luminosity-models-position/real-data/bartels18/flux-hist-DR2.txt\", \"Disk\", True)\n",
    "fermilab_chisq()"
   ]
  },
  {
   "cell_type": "code",
   "execution_count": 45,
   "metadata": {},
   "outputs": [
    {
     "data": {
      "text/plain": [
       "[<matplotlib.lines.Line2D at 0x7ff04c7d0400>]"
      ]
     },
     "execution_count": 45,
     "metadata": {},
     "output_type": "execute_result"
    },
    {
     "data": {
      "image/png": "[encoded data removed]",
      "text/plain": [
       "<Figure size 468x288 with 1 Axes>"
      ]
     },
     "metadata": {
      "needs_background": "light"
     },
     "output_type": "display_data"
    }
   ],
   "source": [
    "from scipy import special\n",
    "def my_chi2(x, dof):\n",
    "    return np.log10(special.gammaincc(dof/2, x/2))\n",
    "def my_fake_chi2(x, dof):\n",
    "    return (dof/2 - 1) * np.log10(x/2) + -x/2/np.log(10) - np.log10(special.gamma(dof/2))\n",
    "\n",
    "xs = np.linspace(10, 80, 100)\n",
    "plt.plot(xs, my_chi2(xs, N_BINS - 1))\n",
    "plt.plot(xs, my_fake_chi2(xs, N_BINS - 1))"
   ]
  },
  {
   "cell_type": "markdown",
   "metadata": {},
   "source": [
    "## Get p values according to Poisson"
   ]
  },
  {
   "cell_type": "code",
   "execution_count": 46,
   "metadata": {},
   "outputs": [
    {
     "name": "stdout",
     "output_type": "stream",
     "text": [
      "Fix flux:\n",
      "Wavelet 1. chisq: 20.297200795115852, p-val: 0.002451374907198267, log_10(p): -2.695698842477772\n",
      "Wavelet 2. chisq: 25.620283032819923, p-val: 0.0002619773057360719, log_10(p): -3.649295913607655\n",
      "GLC. chisq: 38.84591452983678, p-val: 7.672980311124178e-07, log_10(p): -6.15968244882637\n",
      "GCE. chisq: 58.69417666065949, p-val: 8.286993313788571e-11, log_10(p): -10.111178479015273\n",
      "AIC. chisq: 90.94871999783706, p-val: 0.0, log_10(p): -16.734760420143605\n",
      "NPTF. chisq: 102.11082426592655, p-val: 0.0, log_10(p): -19.058030183738698\n",
      "Disk. chisq: 25.441562652107375, p-val: 0.00028278953773974713, log_10(p): -3.6165675570000095\n",
      "Simplified. chisq: 49.36816215331877, p-val: 6.292101506488734e-09, log_10(p): -8.23635626967663\n",
      "\n",
      "Fix number:\n",
      "Wavelet 1. chisq: 6.462781174864698, p-val: 0.3733910630896615, log_10(p): -0.6856261854440278\n",
      "Wavelet 2. chisq: 4.22495730202847, p-val: 0.6462629515766873, log_10(p): -0.5688831597238371\n",
      "GLC. chisq: 2.881384517273142, p-val: 0.8235803574574211, log_10(p): -0.6095722485978998\n",
      "GCE. chisq: 21.39065668292564, p-val: 0.001560401381610066, log_10(p): -2.887563833014729\n",
      "AIC. chisq: 16.22494187078809, p-val: 0.012596208386246421, log_10(p): -2.0059250497834125\n",
      "NPTF. chisq: 63.72925040390203, p-val: 7.837841486946218e-12, log_10(p): -11.133043259610613\n",
      "Disk. chisq: 9.781928731202795, p-val: 0.13414098424322451, log_10(p): -1.046359833496295\n",
      "Simplified. chisq: 48.93695908794578, p-val: 7.67572527760052e-09, log_10(p): -8.150341675368932\n"
     ]
    }
   ],
   "source": [
    "NUM_PERFECT_SAMPLES = 1000\n",
    "\n",
    "def factorial(x):\n",
    "    return special.gamma(x + 1)\n",
    "\n",
    "def get_perfect_poisson(mu):\n",
    "    return mu**mu * np.exp(-mu) / factorial(mu)\n",
    "\n",
    "def get_perfect_multinomial(mu):\n",
    "    return factorial(NUM_RESOLVED) * np.prod((mu / NUM_RESOLVED)**mu / factorial(mu))\n",
    "\n",
    "def pdf_poisson(k, mu):\n",
    "    # k is observed, mu is expected.\n",
    "    # Return the likelihood ratio of the bin\n",
    "    return np.prod(stats.poisson.pmf(k, mu) / get_perfect_poisson(mu))\n",
    "\n",
    "def pdf_multinomial(k, mu):\n",
    "    # k is observed, mu is expected.\n",
    "    # Return the likelihood ratio of the bin\n",
    "    return stats.multinomial.pmf(k, n=NUM_RESOLVED, p=mu/NUM_RESOLVED) / get_perfect_multinomial(mu)\n",
    "\n",
    "def show_poisson(data_file, label, normalize=True):\n",
    "    f = open(data_file)\n",
    "    header = f.readline()\n",
    "    predicted_counts = np.asarray([float(i) for i in f.readline().split(\",\")[:-1]])\n",
    "    predicted_fluxes = np.asarray([float(i) for i in f.readline().split(\",\")[:-1]])\n",
    "    if normalize:\n",
    "        predicted_counts *= NUM_RESOLVED / sum(predicted_counts)\n",
    "    f.close()\n",
    "    \n",
    "    assert len(predicted_counts) == N_BINS\n",
    "    chisq, p_val, pexp = fit_hist(predicted_counts, normalize)\n",
    "    print(\"{}. chisq: {}, p-val: {}, log_10(p): {}\".format(label, chisq, p_val, pexp))\n",
    "    \n",
    "def fermilab_fit(normalize):\n",
    "    counts = np.array(power_law_counts)\n",
    "    if normalize:\n",
    "        counts *= NUM_RESOLVED / sum(counts)\n",
    "    chisq, p_val, pexp = fit_hist(counts, normalize)\n",
    "    print(\"Simplified. chisq: {}, p-val: {}, log_10(p): {}\".format(chisq, p_val, pexp))\n",
    "    \n",
    "def fit_hist(model, normalize):\n",
    "    np_bins = [b for b in bins]\n",
    "    np_bins[-1] *= 10# Extend the last bin so that it includes everything\n",
    "    real_counts, _ = np.histogram(list(fluxes) + list(fluxes_extra), bins=np_bins)\n",
    "    assert(np.sum(real_counts) == NUM_RESOLVED)\n",
    "    if normalize:\n",
    "        like_rat = pdf_multinomial(real_counts, model)\n",
    "        like_rat = pdf_poisson(real_counts, model)\n",
    "    else:\n",
    "        like_rat = pdf_poisson(real_counts, model)\n",
    "    chisq = -2 * np.log(like_rat)\n",
    "    p_val = 1 - stats.chi2.cdf(chisq, N_BINS - 1)\n",
    "    \n",
    "    return chisq, p_val, get_p_exp(chisq, N_BINS - 1)\n",
    "    \n",
    "    \n",
    "print(\"Fix flux:\")\n",
    "show_poisson(\"../luminosity-models-position/real-data/power-law/flux-hist-DR2.txt\", \"Wavelet 1\", False)\n",
    "show_poisson(\"../luminosity-models-position/real-data/wavelet-fit/flux-hist-DR2.txt\", \"Wavelet 2\", False)\n",
    "show_poisson(\"../luminosity-models-position/real-data/log-normal/flux-hist-DR2.txt\", \"GLC\", False)\n",
    "show_poisson(\"../luminosity-models-position/real-data/ploeg/flux-hist-DR2.txt\", \"GCE\", False)\n",
    "show_poisson(\"../luminosity-models-position/real-data/gautam/flux-hist-DR2.txt\", \"AIC\", False)\n",
    "show_poisson(\"../luminosity-models-position/real-data/nptf/flux-hist-DR2.txt\", \"NPTF\", False)\n",
    "show_poisson(\"../luminosity-models-position/real-data/bartels18/flux-hist-DR2.txt\", \"Disk\", False)\n",
    "fermilab_fit(False)\n",
    "\n",
    "\n",
    "print(\"\\nFix number:\")\n",
    "show_poisson(\"../luminosity-models-position/real-data/power-law/flux-hist-DR2.txt\", \"Wavelet 1\", True)\n",
    "show_poisson(\"../luminosity-models-position/real-data/wavelet-fit/flux-hist-DR2.txt\", \"Wavelet 2\")\n",
    "show_poisson(\"../luminosity-models-position/real-data/log-normal/flux-hist-DR2.txt\", \"GLC\", True)\n",
    "show_poisson(\"../luminosity-models-position/real-data/ploeg/flux-hist-DR2.txt\", \"GCE\", True)\n",
    "show_poisson(\"../luminosity-models-position/real-data/gautam/flux-hist-DR2.txt\", \"AIC\", True)\n",
    "show_poisson(\"../luminosity-models-position/real-data/nptf/flux-hist-DR2.txt\", \"NPTF\", True)\n",
    "show_poisson(\"../luminosity-models-position/real-data/bartels18/flux-hist-DR2.txt\", \"Disk\", True)\n",
    "fermilab_fit(True)"
   ]
  },
  {
   "cell_type": "markdown",
   "metadata": {},
   "source": [
    "## Other"
   ]
  },
  {
   "cell_type": "code",
   "execution_count": 47,
   "metadata": {},
   "outputs": [
    {
     "name": "stdout",
     "output_type": "stream",
     "text": [
      "Comparisons are from the position-dependent case without the histogram breakdown.\n",
      "28.948180000000004 Compare 17.613695\n",
      "92.33748999999999 Compare 17.613695\n",
      "107.39386999999999 Compare 77.489204\n",
      "18.913199 Compare 13.2\n",
      "11.305967 Compare 6.35\n",
      "109.42090499999999 Compare 7.48\n",
      "27.81882 Compare 7.48\n"
     ]
    }
   ],
   "source": [
    "def get_unscaled_count(data_file):\n",
    "    f = open(data_file)\n",
    "    header = f.readline()\n",
    "    predicted_counts = np.asarray([float(i) for i in f.readline().split(\",\")[:-1]])\n",
    "    f.close()\n",
    "    return np.sum(predicted_counts)\n",
    "\n",
    "print(\"Comparisons are from the position-dependent case without the histogram breakdown.\")\n",
    "print(get_unscaled_count(\"../luminosity-models-position/real-data/power-law/flux-hist-DR2.txt\"), \"Compare 17.613695\")\n",
    "print(get_unscaled_count(\"../luminosity-models-position/real-data/wavelet-fit/flux-hist-DR2.txt\"), \"Compare 17.613695\")\n",
    "print(get_unscaled_count(\"../luminosity-models-position/real-data/log-normal/flux-hist-DR2.txt\"), \"Compare 77.489204\")\n",
    "print(get_unscaled_count(\"../luminosity-models-position/real-data/ploeg/flux-hist-DR2.txt\"), \"Compare 13.2\")\n",
    "print(get_unscaled_count(\"../luminosity-models-position/real-data/gautam/flux-hist-DR2.txt\"), \"Compare 6.35\")\n",
    "print(get_unscaled_count(\"../luminosity-models-position/real-data/nptf/flux-hist-DR2.txt\"), \"Compare 7.48\")\n",
    "print(get_unscaled_count(\"../luminosity-models-position/real-data/bartels18/flux-hist-DR2.txt\"), \"Compare 7.48\")"
   ]
  },
  {
   "cell_type": "code",
   "execution_count": 48,
   "metadata": {},
   "outputs": [
    {
     "name": "stdout",
     "output_type": "stream",
     "text": [
      "The GCE would have to be more luminous by\n",
      "1.658135330096745\n",
      "0.5198321938358949\n",
      "0.4469528847410006\n",
      "2.537910165276641\n",
      "4.245545737043103\n",
      "0.4386730305328767\n",
      "1.7254506122114455\n"
     ]
    }
   ],
   "source": [
    "print(\"The GCE would have to be more luminous by\")\n",
    "print(NUM_RESOLVED / get_unscaled_count(\"../luminosity-models-position/real-data/power-law/flux-hist-DR2.txt\"))\n",
    "print(NUM_RESOLVED / get_unscaled_count(\"../luminosity-models-position/real-data/wavelet-fit/flux-hist-DR2.txt\"))\n",
    "print(NUM_RESOLVED / get_unscaled_count(\"../luminosity-models-position/real-data/log-normal/flux-hist-DR2.txt\"))\n",
    "print(NUM_RESOLVED / get_unscaled_count(\"../luminosity-models-position/real-data/ploeg/flux-hist-DR2.txt\"))\n",
    "print(NUM_RESOLVED / get_unscaled_count(\"../luminosity-models-position/real-data/gautam/flux-hist-DR2.txt\"))\n",
    "print(NUM_RESOLVED / get_unscaled_count(\"../luminosity-models-position/real-data/nptf/flux-hist-DR2.txt\"))\n",
    "print(NUM_RESOLVED / get_unscaled_count(\"../luminosity-models-position/real-data/bartels18/flux-hist-DR2.txt\"))"
   ]
  },
  {
   "cell_type": "code",
   "execution_count": 49,
   "metadata": {},
   "outputs": [
    {
     "name": "stdout",
     "output_type": "stream",
     "text": [
      "GCE Flux\n",
      "2.9748836859899546e-09\n",
      "9.326381778527954e-10\n",
      "8.018843945292288e-10\n",
      "4.553299969037534e-09\n",
      "7.616992727919753e-09\n",
      "7.870293927938241e-10\n",
      "3.095654971026834e-09\n"
     ]
    }
   ],
   "source": [
    "print(\"GCE Flux\")\n",
    "print(NUM_RESOLVED / get_unscaled_count(\"../luminosity-models-position/real-data/power-law/flux-hist-DR2.txt\") * F_GCE)\n",
    "print(NUM_RESOLVED / get_unscaled_count(\"../luminosity-models-position/real-data/wavelet-fit/flux-hist-DR2.txt\") * F_GCE)\n",
    "print(NUM_RESOLVED / get_unscaled_count(\"../luminosity-models-position/real-data/log-normal/flux-hist-DR2.txt\") * F_GCE)\n",
    "print(NUM_RESOLVED / get_unscaled_count(\"../luminosity-models-position/real-data/ploeg/flux-hist-DR2.txt\") * F_GCE)\n",
    "print(NUM_RESOLVED / get_unscaled_count(\"../luminosity-models-position/real-data/gautam/flux-hist-DR2.txt\") * F_GCE)\n",
    "print(NUM_RESOLVED / get_unscaled_count(\"../luminosity-models-position/real-data/nptf/flux-hist-DR2.txt\") * F_GCE)\n",
    "print(NUM_RESOLVED / get_unscaled_count(\"../luminosity-models-position/real-data/bartels18/flux-hist-DR2.txt\") * F_GCE)"
   ]
  },
  {
   "cell_type": "markdown",
   "metadata": {},
   "source": [
    "Done"
   ]
  }
 ],
 "metadata": {
  "kernelspec": {
   "display_name": "Python 3",
   "language": "python",
   "name": "python3"
  },
  "language_info": {
   "codemirror_mode": {
    "name": "ipython",
    "version": 3
   },
   "file_extension": ".py",
   "mimetype": "text/x-python",
   "name": "python",
   "nbconvert_exporter": "python",
   "pygments_lexer": "ipython3",
   "version": "3.8.10"
  }
 },
 "nbformat": 4,
 "nbformat_minor": 2
}
