{
 "cells": [
  {
   "cell_type": "markdown",
   "id": "18c66b5f",
   "metadata": {},
   "source": [
    "# Unbinned fitting\n",
    "\n",
    "This notebook is very similar to the compare-histograms notebook, but the latter bins sample data in a manner that is not data-driven but that does change the results. So I want another way. Here, you draw $N$ sources from a flux probability distribution and get the likelihood that a source of that flux or more extreme is observed given the hypothesis flux prob distro. This means that for the $i$th luminosity function $P_i(L)$ which results in a flux distribution $P_i(F)$, I'll need"
   ]
  },
  {
   "cell_type": "markdown",
   "id": "128f8f4e",
   "metadata": {},
   "source": [
    "$$C^+_i(f) = P(F\\geq f) = \\int_f^\\infty P(f')df' \\propto \\int d\\Omega \\int r^2 \\rho_\\text{NFW}(r) dr \\int_f^\\infty P_i(4\\pi r^2 f)P_\\text{obs}(f)df'$$"
   ]
  },
  {
   "cell_type": "markdown",
   "id": "6894f33b",
   "metadata": {},
   "source": [
    "since $\\rho_\\text{NFW} r^2 d\\Omega $ is proportional to the probability density of observing a pulsar in the volume element, and given a pulsar in that region, its flux probability distribution is given by its luminosity function $P_i(L)$ for $L=4\\pi r^2 f$, and given a pulsar with flux, the probability of its observation is given by $P_\\text{obs}(f)$. It does not matter that $C_i(f)$ is potentially unnormalized, because the normalization is set by fixing"
   ]
  },
  {
   "cell_type": "markdown",
   "id": "ac469a96",
   "metadata": {},
   "source": [
    "$$\\lim_{f \\rightarrow 0^+} C^+_i(f) = 1.$$"
   ]
  },
  {
   "cell_type": "markdown",
   "id": "c777f04c",
   "metadata": {},
   "source": [
    "Then we also have"
   ]
  },
  {
   "cell_type": "markdown",
   "id": "afd4d4c4",
   "metadata": {},
   "source": [
    "$$C_i^-(f) = P(F\\leq f) = 1 - C_i^+(f)$$"
   ]
  },
  {
   "cell_type": "markdown",
   "id": "78460b43",
   "metadata": {},
   "source": [
    "Given an observed pulsar with flux $f$ and hypothesized luminosity function $P_i(L)$, we can define its likelihood to be"
   ]
  },
  {
   "cell_type": "markdown",
   "id": "c7471536",
   "metadata": {},
   "source": [
    "$$\\mathcal{L}(f) = P((F\\ \\text{more extreme than}\\ f)|i) \\simeq 2\\text{min}\\{P(F\\leq f), P(F \\geq f)\\} = 2\\text{min}\\{1-C_i^+(f), C_i^+(f)\\} = 1 - |2C_i^+(f)-1|$$"
   ]
  },
  {
   "cell_type": "markdown",
   "id": "d9fd5af9",
   "metadata": {},
   "source": [
    "Then the full likelihood is"
   ]
  },
  {
   "cell_type": "markdown",
   "id": "e72bff61",
   "metadata": {},
   "source": [
    "$$\\mathcal{L}(D) = \\prod_{f \\in D} \\mathcal{L}(f).$$"
   ]
  },
  {
   "cell_type": "markdown",
   "id": "5e310e4c",
   "metadata": {},
   "source": [
    "We generate the data $D$ by drawing $N$ samples from $P_i(F)$, where $j$ is the true luminosity function. This drawing is done by generating $N$ random numbers $r_k \\in [0, 1]$ and choosing that the $k$th datapoint $f_k$ satisfies"
   ]
  },
  {
   "cell_type": "markdown",
   "id": "1a484aea",
   "metadata": {},
   "source": [
    "$$C^+_j(f_{kj}) = r$$"
   ]
  },
  {
   "cell_type": "markdown",
   "id": "8526be85",
   "metadata": {},
   "source": [
    "The result is that, for $i=j$, \n",
    "$$-\\left\\langle\\frac{\\ln \\mathcal{L}(D)}{|D|}\\right\\rangle = -\\left\\langle \\ln(1-|2r-1|)\\right\\rangle= 1$$"
   ]
  },
  {
   "cell_type": "markdown",
   "id": "f47c8da7",
   "metadata": {},
   "source": [
    "So, assuming that $i=j$, what is the probability distribution of $\\mathcal{T}=-\\frac{\\ln \\mathcal{L}(D)}{|D|}$? It's"
   ]
  },
  {
   "cell_type": "markdown",
   "id": "568b1af7",
   "metadata": {},
   "source": [
    "$$P(\\mathcal{T})=\\frac{1}{|D|}\\sum_{i=1}^{|D|}-\\ln(1 - |2r_i - 1|),$$"
   ]
  },
  {
   "cell_type": "markdown",
   "id": "b89b85e1",
   "metadata": {},
   "source": [
    " where $r_i$ is a uniformly random variable from 0 to 1. The summand is a probability distribution with mean $\\mu=1$ and variance $\\sigma^2=1$, and $\\mathcal{T}$ is the mean of $|D|$ instances of this distribution. The central limit theorem then states that, for large $|D|$,"
   ]
  },
  {
   "cell_type": "markdown",
   "id": "5b2efbbf",
   "metadata": {},
   "source": [
    "$$\\sqrt{|D|}\\left(\\mathcal{T}-1\\right)\\rightarrow N(0, 1).$$"
   ]
  },
  {
   "cell_type": "markdown",
   "id": "48a0c73f",
   "metadata": {},
   "source": [
    "It follows that"
   ]
  },
  {
   "cell_type": "markdown",
   "id": "4d24cc16",
   "metadata": {},
   "source": [
    "$$\\mathcal{T}\\rightarrow N\\left(1, \\sqrt{\\frac{1}{|D|}}\\right).$$"
   ]
  },
  {
   "cell_type": "code",
   "execution_count": 1,
   "id": "8923a77c",
   "metadata": {},
   "outputs": [],
   "source": [
    "import numpy as np\n",
    "import matplotlib.pyplot as plt\n",
    "import random\n",
    "from scipy import stats\n",
    "\n",
    "FILE_NAMES = [\"power-law\", \"log-normal\", \"ploeg\", \"gautam\", \"nptf\"]\n",
    "DISPLAY_NAMES = [\"Power law\", \"GLC\", \"GCE\", \"AIC\", \"NPTF\"]\n",
    "SENS_TYPE = \"position\"\n",
    "if SENS_TYPE == \"position\":\n",
    "    N_REALS = [\n",
    "        [24, 108, 14, 9, 11],\n",
    "        [63, 196, 55, 31, 77],\n",
    "        [189, 348, 265, 142, 828],\n",
    "        [401, 463, 750, 411, 1880],\n",
    "    ]\n",
    "else:\n",
    "    # FIX\n",
    "    N_REALS = [\n",
    "        [7, 41, 4, 3, 3],\n",
    "        [22, 88, 16, 9, 21],\n",
    "        [74, 191, 81, 45, 185],\n",
    "        [164, 295, 245, 135, 624],\n",
    "    ]\n",
    "\n",
    "#plt.style.use(\"jcap\")"
   ]
  },
  {
   "cell_type": "code",
   "execution_count": 2,
   "id": "cb3bab17",
   "metadata": {},
   "outputs": [
    {
     "data": {
      "text/plain": [
       "0.15813704673467194"
      ]
     },
     "execution_count": 2,
     "metadata": {},
     "output_type": "execute_result"
    }
   ],
   "source": [
    "def load_file(filename):\n",
    "    fluxes = []\n",
    "    pdfs = []\n",
    "    cdfs = []\n",
    "    f = open(filename)\n",
    "    for line in f.readlines():\n",
    "        if line == \"\": continue\n",
    "        flux, pdf, cdf = line.split()\n",
    "        fluxes.append(float(flux))\n",
    "        pdfs.append(float(pdf))\n",
    "        cdfs.append(float(cdf))\n",
    "    return np.asarray(fluxes), np.asarray(cdfs) / cdfs[0]\n",
    "\n",
    "def draw_fluxes(ndraw, fluxes, cdfs):\n",
    "    draws = []\n",
    "    for i in range(ndraw):\n",
    "        r = random.random()\n",
    "        for j, cdf in enumerate(cdfs):\n",
    "            if cdf < r:\n",
    "                # r is between cdf[j] and cdf[j-1]. Linearly extrapolate to get the flux\n",
    "                assert(j>0)\n",
    "                through = (r - cdfs[j]) / (cdfs[j-1] - cdfs[j])\n",
    "                draws.append(fluxes[j] + through * (fluxes[j-1] - fluxes[j]))\n",
    "                break\n",
    "        if cdfs[-1] >= r:\n",
    "            draws.append(fluxes[-1])\n",
    "    return np.asarray(draws)\n",
    "    \n",
    "    \n",
    "def get_log_likelihood(sensitivity, true_func, hyp_func, ndraw):\n",
    "    real_fluxes, real_cdfs = load_file(\"gen-cdfs/data-{}x/{}-{}.dat\".format(sensitivity, FILE_NAMES[true_func], SENS_TYPE))\n",
    "    hyp_fluxes, hyp_cdfs = load_file(\"gen-cdfs/data-{}x/{}-{}.dat\".format(sensitivity, FILE_NAMES[hyp_func], SENS_TYPE))\n",
    "    drawn_fluxes = draw_fluxes(ndraw, real_fluxes, real_cdfs)\n",
    "    log_like = 0\n",
    "    for flux in drawn_fluxes:\n",
    "        for i, f in enumerate(hyp_fluxes):\n",
    "            if f > flux:\n",
    "                # flux is between hyp_fluxes[i] and hyp_fluxes[i-1]. Linearly extrapolate to get cdf.\n",
    "                assert(i>0)\n",
    "                through = (flux - hyp_fluxes[i]) / (hyp_fluxes[i-1] - hyp_fluxes[i])\n",
    "                cdf = hyp_cdfs[i] + through * (hyp_cdfs[i-1] - hyp_cdfs[i])\n",
    "                log_like += np.log(1 - abs(2 * cdf - 1))\n",
    "                break\n",
    "        if flux >= hyp_fluxes[-1]:\n",
    "            log_like += np.log(1 - abs(2 * hyp_cdfs[-1] - 1))\n",
    "            \n",
    "    return log_like\n",
    "\n",
    "def get_sigma(sensitivity, true_func, hyp_func, ndraw, ntrial):\n",
    "    nboth = ndraw * ntrial\n",
    "    t = -1 * get_log_likelihood(sensitivity, true_func, hyp_func, nboth) / nboth\n",
    "    return abs(1 - t) * np.sqrt(ndraw)\n",
    "\n",
    "def get_t_matrix(sensitivity, ndraws, ntrials):\n",
    "    mat = []\n",
    "    for i in range(len(FILE_NAMES)): # True\n",
    "        line = []\n",
    "        for j in range(len(FILE_NAMES)): # Hypothetical\n",
    "            line.append(get_sigma(sensitivity, i, j, ndraws[i], ntrials))\n",
    "        mat.append(np.asarray(line))\n",
    "    return np.asarray(mat)\n",
    "\n",
    "get_sigma(1, 2, 2, 47, 100)"
   ]
  },
  {
   "cell_type": "code",
   "execution_count": 3,
   "id": "e388526e",
   "metadata": {},
   "outputs": [
    {
     "ename": "KeyboardInterrupt",
     "evalue": "",
     "output_type": "error",
     "traceback": [
      "\u001b[0;31m---------------------------------------------------------------------------\u001b[0m",
      "\u001b[0;31mKeyboardInterrupt\u001b[0m                         Traceback (most recent call last)",
      "\u001b[0;32m<ipython-input-3-8aebbaf3ec7c>\u001b[0m in \u001b[0;36m<module>\u001b[0;34m\u001b[0m\n\u001b[1;32m      1\u001b[0m \u001b[0mSENSITIVITIES\u001b[0m \u001b[0;34m=\u001b[0m \u001b[0;34m[\u001b[0m\u001b[0;36m1\u001b[0m\u001b[0;34m,\u001b[0m \u001b[0;36m2\u001b[0m\u001b[0;34m,\u001b[0m \u001b[0;36m5\u001b[0m\u001b[0;34m,\u001b[0m \u001b[0;36m10\u001b[0m\u001b[0;34m]\u001b[0m\u001b[0;34m\u001b[0m\u001b[0;34m\u001b[0m\u001b[0m\n\u001b[1;32m      2\u001b[0m \u001b[0mN_TRIALS\u001b[0m \u001b[0;34m=\u001b[0m \u001b[0;36m1000\u001b[0m\u001b[0;34m\u001b[0m\u001b[0;34m\u001b[0m\u001b[0m\n\u001b[0;32m----> 3\u001b[0;31m \u001b[0mmats_47\u001b[0m \u001b[0;34m=\u001b[0m \u001b[0;34m[\u001b[0m\u001b[0mget_t_matrix\u001b[0m\u001b[0;34m(\u001b[0m\u001b[0msens\u001b[0m\u001b[0;34m,\u001b[0m \u001b[0;34m[\u001b[0m\u001b[0;36m47\u001b[0m\u001b[0;34m]\u001b[0m\u001b[0;34m*\u001b[0m\u001b[0mlen\u001b[0m\u001b[0;34m(\u001b[0m\u001b[0mFILE_NAMES\u001b[0m\u001b[0;34m)\u001b[0m\u001b[0;34m,\u001b[0m \u001b[0mN_TRIALS\u001b[0m\u001b[0;34m)\u001b[0m \u001b[0;32mfor\u001b[0m \u001b[0msens\u001b[0m \u001b[0;32min\u001b[0m \u001b[0mSENSITIVITIES\u001b[0m\u001b[0;34m]\u001b[0m\u001b[0;34m\u001b[0m\u001b[0;34m\u001b[0m\u001b[0m\n\u001b[0m\u001b[1;32m      4\u001b[0m \u001b[0mmats_scale\u001b[0m \u001b[0;34m=\u001b[0m \u001b[0;34m[\u001b[0m\u001b[0mget_t_matrix\u001b[0m\u001b[0;34m(\u001b[0m\u001b[0msens\u001b[0m\u001b[0;34m,\u001b[0m \u001b[0mN_REALS\u001b[0m\u001b[0;34m[\u001b[0m\u001b[0mi\u001b[0m\u001b[0;34m]\u001b[0m\u001b[0;34m,\u001b[0m \u001b[0mN_TRIALS\u001b[0m\u001b[0;34m)\u001b[0m \u001b[0;32mfor\u001b[0m \u001b[0mi\u001b[0m\u001b[0;34m,\u001b[0m \u001b[0msens\u001b[0m \u001b[0;32min\u001b[0m \u001b[0menumerate\u001b[0m\u001b[0;34m(\u001b[0m\u001b[0mSENSITIVITIES\u001b[0m\u001b[0;34m)\u001b[0m\u001b[0;34m]\u001b[0m\u001b[0;34m\u001b[0m\u001b[0;34m\u001b[0m\u001b[0m\n",
      "\u001b[0;32m<ipython-input-3-8aebbaf3ec7c>\u001b[0m in \u001b[0;36m<listcomp>\u001b[0;34m(.0)\u001b[0m\n\u001b[1;32m      1\u001b[0m \u001b[0mSENSITIVITIES\u001b[0m \u001b[0;34m=\u001b[0m \u001b[0;34m[\u001b[0m\u001b[0;36m1\u001b[0m\u001b[0;34m,\u001b[0m \u001b[0;36m2\u001b[0m\u001b[0;34m,\u001b[0m \u001b[0;36m5\u001b[0m\u001b[0;34m,\u001b[0m \u001b[0;36m10\u001b[0m\u001b[0;34m]\u001b[0m\u001b[0;34m\u001b[0m\u001b[0;34m\u001b[0m\u001b[0m\n\u001b[1;32m      2\u001b[0m \u001b[0mN_TRIALS\u001b[0m \u001b[0;34m=\u001b[0m \u001b[0;36m1000\u001b[0m\u001b[0;34m\u001b[0m\u001b[0;34m\u001b[0m\u001b[0m\n\u001b[0;32m----> 3\u001b[0;31m \u001b[0mmats_47\u001b[0m \u001b[0;34m=\u001b[0m \u001b[0;34m[\u001b[0m\u001b[0mget_t_matrix\u001b[0m\u001b[0;34m(\u001b[0m\u001b[0msens\u001b[0m\u001b[0;34m,\u001b[0m \u001b[0;34m[\u001b[0m\u001b[0;36m47\u001b[0m\u001b[0;34m]\u001b[0m\u001b[0;34m*\u001b[0m\u001b[0mlen\u001b[0m\u001b[0;34m(\u001b[0m\u001b[0mFILE_NAMES\u001b[0m\u001b[0;34m)\u001b[0m\u001b[0;34m,\u001b[0m \u001b[0mN_TRIALS\u001b[0m\u001b[0;34m)\u001b[0m \u001b[0;32mfor\u001b[0m \u001b[0msens\u001b[0m \u001b[0;32min\u001b[0m \u001b[0mSENSITIVITIES\u001b[0m\u001b[0;34m]\u001b[0m\u001b[0;34m\u001b[0m\u001b[0;34m\u001b[0m\u001b[0m\n\u001b[0m\u001b[1;32m      4\u001b[0m \u001b[0mmats_scale\u001b[0m \u001b[0;34m=\u001b[0m \u001b[0;34m[\u001b[0m\u001b[0mget_t_matrix\u001b[0m\u001b[0;34m(\u001b[0m\u001b[0msens\u001b[0m\u001b[0;34m,\u001b[0m \u001b[0mN_REALS\u001b[0m\u001b[0;34m[\u001b[0m\u001b[0mi\u001b[0m\u001b[0;34m]\u001b[0m\u001b[0;34m,\u001b[0m \u001b[0mN_TRIALS\u001b[0m\u001b[0;34m)\u001b[0m \u001b[0;32mfor\u001b[0m \u001b[0mi\u001b[0m\u001b[0;34m,\u001b[0m \u001b[0msens\u001b[0m \u001b[0;32min\u001b[0m \u001b[0menumerate\u001b[0m\u001b[0;34m(\u001b[0m\u001b[0mSENSITIVITIES\u001b[0m\u001b[0;34m)\u001b[0m\u001b[0;34m]\u001b[0m\u001b[0;34m\u001b[0m\u001b[0;34m\u001b[0m\u001b[0m\n",
      "\u001b[0;32m<ipython-input-2-3c321ad49198>\u001b[0m in \u001b[0;36mget_t_matrix\u001b[0;34m(sensitivity, ndraws, ntrials)\u001b[0m\n\u001b[1;32m     57\u001b[0m         \u001b[0mline\u001b[0m \u001b[0;34m=\u001b[0m \u001b[0;34m[\u001b[0m\u001b[0;34m]\u001b[0m\u001b[0;34m\u001b[0m\u001b[0;34m\u001b[0m\u001b[0m\n\u001b[1;32m     58\u001b[0m         \u001b[0;32mfor\u001b[0m \u001b[0mj\u001b[0m \u001b[0;32min\u001b[0m \u001b[0mrange\u001b[0m\u001b[0;34m(\u001b[0m\u001b[0mlen\u001b[0m\u001b[0;34m(\u001b[0m\u001b[0mFILE_NAMES\u001b[0m\u001b[0;34m)\u001b[0m\u001b[0;34m)\u001b[0m\u001b[0;34m:\u001b[0m \u001b[0;31m# Hypothetical\u001b[0m\u001b[0;34m\u001b[0m\u001b[0;34m\u001b[0m\u001b[0m\n\u001b[0;32m---> 59\u001b[0;31m             \u001b[0mline\u001b[0m\u001b[0;34m.\u001b[0m\u001b[0mappend\u001b[0m\u001b[0;34m(\u001b[0m\u001b[0mget_sigma\u001b[0m\u001b[0;34m(\u001b[0m\u001b[0msensitivity\u001b[0m\u001b[0;34m,\u001b[0m \u001b[0mi\u001b[0m\u001b[0;34m,\u001b[0m \u001b[0mj\u001b[0m\u001b[0;34m,\u001b[0m \u001b[0mndraws\u001b[0m\u001b[0;34m[\u001b[0m\u001b[0mi\u001b[0m\u001b[0;34m]\u001b[0m\u001b[0;34m,\u001b[0m \u001b[0mntrials\u001b[0m\u001b[0;34m)\u001b[0m\u001b[0;34m)\u001b[0m\u001b[0;34m\u001b[0m\u001b[0;34m\u001b[0m\u001b[0m\n\u001b[0m\u001b[1;32m     60\u001b[0m         \u001b[0mmat\u001b[0m\u001b[0;34m.\u001b[0m\u001b[0mappend\u001b[0m\u001b[0;34m(\u001b[0m\u001b[0mnp\u001b[0m\u001b[0;34m.\u001b[0m\u001b[0masarray\u001b[0m\u001b[0;34m(\u001b[0m\u001b[0mline\u001b[0m\u001b[0;34m)\u001b[0m\u001b[0;34m)\u001b[0m\u001b[0;34m\u001b[0m\u001b[0;34m\u001b[0m\u001b[0m\n\u001b[1;32m     61\u001b[0m     \u001b[0;32mreturn\u001b[0m \u001b[0mnp\u001b[0m\u001b[0;34m.\u001b[0m\u001b[0masarray\u001b[0m\u001b[0;34m(\u001b[0m\u001b[0mmat\u001b[0m\u001b[0;34m)\u001b[0m\u001b[0;34m\u001b[0m\u001b[0;34m\u001b[0m\u001b[0m\n",
      "\u001b[0;32m<ipython-input-2-3c321ad49198>\u001b[0m in \u001b[0;36mget_sigma\u001b[0;34m(sensitivity, true_func, hyp_func, ndraw, ntrial)\u001b[0m\n\u001b[1;32m     49\u001b[0m \u001b[0;32mdef\u001b[0m \u001b[0mget_sigma\u001b[0m\u001b[0;34m(\u001b[0m\u001b[0msensitivity\u001b[0m\u001b[0;34m,\u001b[0m \u001b[0mtrue_func\u001b[0m\u001b[0;34m,\u001b[0m \u001b[0mhyp_func\u001b[0m\u001b[0;34m,\u001b[0m \u001b[0mndraw\u001b[0m\u001b[0;34m,\u001b[0m \u001b[0mntrial\u001b[0m\u001b[0;34m)\u001b[0m\u001b[0;34m:\u001b[0m\u001b[0;34m\u001b[0m\u001b[0;34m\u001b[0m\u001b[0m\n\u001b[1;32m     50\u001b[0m     \u001b[0mnboth\u001b[0m \u001b[0;34m=\u001b[0m \u001b[0mndraw\u001b[0m \u001b[0;34m*\u001b[0m \u001b[0mntrial\u001b[0m\u001b[0;34m\u001b[0m\u001b[0;34m\u001b[0m\u001b[0m\n\u001b[0;32m---> 51\u001b[0;31m     \u001b[0mt\u001b[0m \u001b[0;34m=\u001b[0m \u001b[0;34m-\u001b[0m\u001b[0;36m1\u001b[0m \u001b[0;34m*\u001b[0m \u001b[0mget_log_likelihood\u001b[0m\u001b[0;34m(\u001b[0m\u001b[0msensitivity\u001b[0m\u001b[0;34m,\u001b[0m \u001b[0mtrue_func\u001b[0m\u001b[0;34m,\u001b[0m \u001b[0mhyp_func\u001b[0m\u001b[0;34m,\u001b[0m \u001b[0mnboth\u001b[0m\u001b[0;34m)\u001b[0m \u001b[0;34m/\u001b[0m \u001b[0mnboth\u001b[0m\u001b[0;34m\u001b[0m\u001b[0;34m\u001b[0m\u001b[0m\n\u001b[0m\u001b[1;32m     52\u001b[0m     \u001b[0;32mreturn\u001b[0m \u001b[0mabs\u001b[0m\u001b[0;34m(\u001b[0m\u001b[0;36m1\u001b[0m \u001b[0;34m-\u001b[0m \u001b[0mt\u001b[0m\u001b[0;34m)\u001b[0m \u001b[0;34m*\u001b[0m \u001b[0mnp\u001b[0m\u001b[0;34m.\u001b[0m\u001b[0msqrt\u001b[0m\u001b[0;34m(\u001b[0m\u001b[0mndraw\u001b[0m\u001b[0;34m)\u001b[0m\u001b[0;34m\u001b[0m\u001b[0;34m\u001b[0m\u001b[0m\n\u001b[1;32m     53\u001b[0m \u001b[0;34m\u001b[0m\u001b[0m\n",
      "\u001b[0;32m<ipython-input-2-3c321ad49198>\u001b[0m in \u001b[0;36mget_log_likelihood\u001b[0;34m(sensitivity, true_func, hyp_func, ndraw)\u001b[0m\n\u001b[1;32m     34\u001b[0m     \u001b[0mlog_like\u001b[0m \u001b[0;34m=\u001b[0m \u001b[0;36m0\u001b[0m\u001b[0;34m\u001b[0m\u001b[0;34m\u001b[0m\u001b[0m\n\u001b[1;32m     35\u001b[0m     \u001b[0;32mfor\u001b[0m \u001b[0mflux\u001b[0m \u001b[0;32min\u001b[0m \u001b[0mdrawn_fluxes\u001b[0m\u001b[0;34m:\u001b[0m\u001b[0;34m\u001b[0m\u001b[0;34m\u001b[0m\u001b[0m\n\u001b[0;32m---> 36\u001b[0;31m         \u001b[0;32mfor\u001b[0m \u001b[0mi\u001b[0m\u001b[0;34m,\u001b[0m \u001b[0mf\u001b[0m \u001b[0;32min\u001b[0m \u001b[0menumerate\u001b[0m\u001b[0;34m(\u001b[0m\u001b[0mhyp_fluxes\u001b[0m\u001b[0;34m)\u001b[0m\u001b[0;34m:\u001b[0m\u001b[0;34m\u001b[0m\u001b[0;34m\u001b[0m\u001b[0m\n\u001b[0m\u001b[1;32m     37\u001b[0m             \u001b[0;32mif\u001b[0m \u001b[0mf\u001b[0m \u001b[0;34m>\u001b[0m \u001b[0mflux\u001b[0m\u001b[0;34m:\u001b[0m\u001b[0;34m\u001b[0m\u001b[0;34m\u001b[0m\u001b[0m\n\u001b[1;32m     38\u001b[0m                 \u001b[0;31m# flux is between hyp_fluxes[i] and hyp_fluxes[i-1]. Linearly extrapolate to get cdf.\u001b[0m\u001b[0;34m\u001b[0m\u001b[0;34m\u001b[0m\u001b[0;34m\u001b[0m\u001b[0m\n",
      "\u001b[0;31mKeyboardInterrupt\u001b[0m: "
     ]
    }
   ],
   "source": [
    "SENSITIVITIES = [1, 2, 5, 10]\n",
    "N_TRIALS = 1000\n",
    "mats_47 = [get_t_matrix(sens, [47]*len(FILE_NAMES), N_TRIALS) for sens in SENSITIVITIES]\n",
    "mats_scale = [get_t_matrix(sens, N_REALS[i], N_TRIALS) for i, sens in enumerate(SENSITIVITIES)]"
   ]
  },
  {
   "cell_type": "markdown",
   "id": "30dcdba8",
   "metadata": {},
   "source": [
    "## Show sigmas away from 1"
   ]
  },
  {
   "cell_type": "code",
   "execution_count": null,
   "id": "e7c67ade",
   "metadata": {},
   "outputs": [],
   "source": [
    "def display(mats, cmap, suffix):\n",
    "    fig, axs = plt.subplots(ncols=2, nrows=2, figsize=(8, 8), sharey=True)\n",
    "\n",
    "    for i, mat in enumerate(mats):\n",
    "        ax = axs[i//2][i%2]\n",
    "        ax.xaxis.tick_top()\n",
    "        c = ax.imshow(mat, vmin=0, vmax=2.576, cmap=cmap)\n",
    "        if i // 2 == 0:\n",
    "            ax.set_xticklabels(DISPLAY_NAMES, rotation=90)\n",
    "            ax.set_xticks([0, 1, 2, 3, 4])\n",
    "        else:\n",
    "            ax.set_xticklabels([\"\"] * 5, rotation=90)\n",
    "            ax.set_xticks([0, 1, 2, 3, 4])\n",
    "        ax.set_yticklabels(DISPLAY_NAMES)\n",
    "        ax.set_yticks([0, 1, 2, 3, 4])\n",
    "        for mi in range(len(DISPLAY_NAMES)):\n",
    "            for mj in range(len(DISPLAY_NAMES)):\n",
    "                color='k'\n",
    "                if mat[mi, mj] > 1.5:\n",
    "                    color='w'\n",
    "                show_text = str(mat[mi, mj])[:4]\n",
    "                if np.log10(mat[mi, mj]) > 2:\n",
    "                    show_text = str(mat[mi, mj])[:3]\n",
    "                text = ax.text(mj, mi, show_text, ha=\"center\", va=\"center\", color=color, size=18)\n",
    "        ax.set_title(\"Sensitivity $\\\\times$ {}\".format(SENSITIVITIES[i]))\n",
    "\n",
    "    #cbar_ax = fig.add_axes([0.93, 0.03, 0.03, 0.8])\n",
    "    #fig.colorbar(c, cax=cbar_ax, label=\"$\\chi^2_r$\")\n",
    "\n",
    "    fig.tight_layout()\n",
    "    fig.savefig(\"unbinned-my-comparison-{}-sigma-{}.pdf\".format(SENS_TYPE, suffix))"
   ]
  },
  {
   "cell_type": "markdown",
   "id": "a97642b4",
   "metadata": {},
   "source": [
    "## Display with fixed $N_\\text{r}=47$"
   ]
  },
  {
   "cell_type": "code",
   "execution_count": null,
   "id": "c64ba6ea",
   "metadata": {},
   "outputs": [],
   "source": [
    "display(mats_47, \"Reds\", \"47\")"
   ]
  },
  {
   "cell_type": "markdown",
   "id": "38f427c7",
   "metadata": {},
   "source": [
    "## Display with $N_\\text{r}$ set by the true function"
   ]
  },
  {
   "cell_type": "code",
   "execution_count": null,
   "id": "08cbd77f",
   "metadata": {},
   "outputs": [],
   "source": [
    "display(mats_scale, \"Purples\", \"scale\")"
   ]
  },
  {
   "cell_type": "markdown",
   "id": "b82a9f09",
   "metadata": {},
   "source": [
    "## Tests"
   ]
  },
  {
   "cell_type": "markdown",
   "id": "fd8fb931",
   "metadata": {},
   "source": [
    "The pdf distribution should patch the histogram of fluxes drawn"
   ]
  },
  {
   "cell_type": "code",
   "execution_count": null,
   "id": "f7596d52",
   "metadata": {},
   "outputs": [],
   "source": [
    "real_fluxes, real_cdfs = load_file(\"gen-cdfs/data-1x/log-normal-position.dat\")\n",
    "fake_pdfs = np.asarray([real_cdfs[i]-real_cdfs[i+1] for i in range(len(real_cdfs)-1)]+[0])\n",
    "\n",
    "num_draw = 10000\n",
    "\n",
    "test_drawn_fluxes = draw_fluxes(num_draw, real_fluxes, real_cdfs)\n",
    "plt.hist(test_drawn_fluxes, bins=10**(np.linspace(-13, -10, 50)))\n",
    "plt.plot(real_fluxes, fake_pdfs * 20000)\n",
    "plt.xscale('log')"
   ]
  },
  {
   "cell_type": "markdown",
   "id": "7ee10b93",
   "metadata": {},
   "source": [
    "The distribution of sigma for a luminosity function fit to itself should follow a standard normal distribution"
   ]
  },
  {
   "cell_type": "code",
   "execution_count": null,
   "id": "ec0c0a19",
   "metadata": {},
   "outputs": [],
   "source": [
    "sigmas = np.asarray([get_sigma(1, 2, 2, 47, 1) for j in range(10000)])\n",
    "_, x, _ = plt.hist(sigmas, bins=50, density=True);\n",
    "plt.plot(x, 2 / np.sqrt(2 * 3.1415926535) * np.exp(-x**2 / 2))"
   ]
  },
  {
   "cell_type": "markdown",
   "id": "d087cebe",
   "metadata": {},
   "source": [
    "Done"
   ]
  }
 ],
 "metadata": {
  "kernelspec": {
   "display_name": "Python 3",
   "language": "python",
   "name": "python3"
  },
  "language_info": {
   "codemirror_mode": {
    "name": "ipython",
    "version": 3
   },
   "file_extension": ".py",
   "mimetype": "text/x-python",
   "name": "python",
   "nbconvert_exporter": "python",
   "pygments_lexer": "ipython3",
   "version": "3.8.10"
  }
 },
 "nbformat": 4,
 "nbformat_minor": 5
}
