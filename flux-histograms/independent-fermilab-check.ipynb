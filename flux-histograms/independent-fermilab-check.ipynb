{
 "cells": [
  {
   "cell_type": "markdown",
   "id": "38a624ad",
   "metadata": {},
   "source": [
    "# Independent Fermilab check\n",
    "\n",
    "This notebook finds the point sources the Fermilab folks gave me and determines whether they're associated."
   ]
  },
  {
   "cell_type": "code",
   "execution_count": 1,
   "id": "42526900",
   "metadata": {},
   "outputs": [
    {
     "name": "stdout",
     "output_type": "stream",
     "text": [
      "47\n"
     ]
    }
   ],
   "source": [
    "names = []\n",
    "\n",
    "f = open(\"data/gll_psc_v20_47_Final_sources_Spectral_Properties.txt\", 'r')\n",
    "for line in f.readlines():\n",
    "    if line == '': continue\n",
    "    if line[0] == \"#\": continue\n",
    "    names.append(line.split(' ')[0][5:])\n",
    "    \n",
    "print(len(names))"
   ]
  },
  {
   "cell_type": "code",
   "execution_count": 5,
   "id": "43fc0387",
   "metadata": {},
   "outputs": [],
   "source": [
    "from astropy.io import fits\n",
    "hdul = fits.open(\"data/gll_psc_v20.fit\")\n",
    "data = hdul[1].data"
   ]
  },
  {
   "cell_type": "code",
   "execution_count": 8,
   "id": "cccd17c0",
   "metadata": {},
   "outputs": [],
   "source": [
    "for row in data:\n",
    "    if row[\"Source_Name\"][5:] == \"J1750.0-3849\":\n",
    "        if row[\"CLASS1\"] not in [\"\", \"unk\", \"psr\", \"PSR\"]:\n",
    "            print(row[\"Source_Name\"], row[\"CLASS1\"], row[\"ASSOC1\"])\n",
    "        if row[\"CLASS2\"] not in [\"\", \"unk\", \"psr\", \"PSR\"]:\n",
    "            print(row[\"Source_Name\"], row[\"CLASS2\"], row[\"ASSOC2\"])"
   ]
  },
  {
   "cell_type": "code",
   "execution_count": 12,
   "id": "75b808f1",
   "metadata": {},
   "outputs": [
    {
     "name": "stdout",
     "output_type": "stream",
     "text": [
      "4FGL J1555.7-2908 18.502102 344.4837 PSR  PSR J1555-2908  0\n",
      "4FGL J1750.0-3849 -5.8692975 351.98346     5\n",
      "4FGL J1823.5-3020 -7.88724 2.787945 PSR  PSR J1823-3021A  0\n"
     ]
    }
   ],
   "source": [
    "for row in data:\n",
    "    if row[\"Source_Name\"][5:] in ['J1750.0-3849', 'J1823.5-3020', 'J1555.7-2908']:\n",
    "        print(row[\"Source_Name\"], row[\"GLAT\"], row[\"GLON\"], row[\"CLASS1\"], row[\"CLASS2\"], row[\"ASSOC1\"], row[\"ASSOC2\"],\n",
    "             row[\"Flags\"])"
   ]
  },
  {
   "cell_type": "code",
   "execution_count": null,
   "id": "f2d90732",
   "metadata": {},
   "outputs": [],
   "source": [
    "1     J1555-2908  fermi21    2.398  -1.917 1.597\n",
    "2     B1820-30A   bbl+94     -1.088 0.381  0.684"
   ]
  }
 ],
 "metadata": {
  "kernelspec": {
   "display_name": "Python 3",
   "language": "python",
   "name": "python3"
  },
  "language_info": {
   "codemirror_mode": {
    "name": "ipython",
    "version": 3
   },
   "file_extension": ".py",
   "mimetype": "text/x-python",
   "name": "python",
   "nbconvert_exporter": "python",
   "pygments_lexer": "ipython3",
   "version": "3.8.10"
  }
 },
 "nbformat": 4,
 "nbformat_minor": 5
}
